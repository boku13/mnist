{
  "nbformat": 4,
  "nbformat_minor": 0,
  "metadata": {
    "colab": {
      "provenance": []
    },
    "kernelspec": {
      "name": "python3",
      "display_name": "Python 3"
    },
    "language_info": {
      "name": "python"
    }
  },
  "cells": [
    {
      "cell_type": "code",
      "source": [
        "!pip3 install torch torchvision torchaudio --index-url https://download.pytorch.org/whl/cu118 #version control\n",
        "!pip install wandb\n",
        "!pip install torchinfo\n",
        "# !wandb login()"
      ],
      "metadata": {
        "colab": {
          "base_uri": "https://localhost:8080/"
        },
        "id": "9hzdKo0uvETS",
        "outputId": "6a7aff28-8829-43cb-9762-8c430477f0f1"
      },
      "execution_count": null,
      "outputs": [
        {
          "output_type": "stream",
          "name": "stdout",
          "text": [
            "Looking in indexes: https://download.pytorch.org/whl/cu118\n",
            "Requirement already satisfied: torch in /usr/local/lib/python3.10/dist-packages (2.0.1+cu118)\n",
            "Requirement already satisfied: torchvision in /usr/local/lib/python3.10/dist-packages (0.15.2+cu118)\n",
            "Requirement already satisfied: torchaudio in /usr/local/lib/python3.10/dist-packages (2.0.2+cu118)\n",
            "Requirement already satisfied: filelock in /usr/local/lib/python3.10/dist-packages (from torch) (3.12.2)\n",
            "Requirement already satisfied: typing-extensions in /usr/local/lib/python3.10/dist-packages (from torch) (4.7.1)\n",
            "Requirement already satisfied: sympy in /usr/local/lib/python3.10/dist-packages (from torch) (1.11.1)\n",
            "Requirement already satisfied: networkx in /usr/local/lib/python3.10/dist-packages (from torch) (3.1)\n",
            "Requirement already satisfied: jinja2 in /usr/local/lib/python3.10/dist-packages (from torch) (3.1.2)\n",
            "Requirement already satisfied: triton==2.0.0 in /usr/local/lib/python3.10/dist-packages (from torch) (2.0.0)\n",
            "Requirement already satisfied: cmake in /usr/local/lib/python3.10/dist-packages (from triton==2.0.0->torch) (3.25.2)\n",
            "Requirement already satisfied: lit in /usr/local/lib/python3.10/dist-packages (from triton==2.0.0->torch) (16.0.6)\n",
            "Requirement already satisfied: numpy in /usr/local/lib/python3.10/dist-packages (from torchvision) (1.22.4)\n",
            "Requirement already satisfied: requests in /usr/local/lib/python3.10/dist-packages (from torchvision) (2.27.1)\n",
            "Requirement already satisfied: pillow!=8.3.*,>=5.3.0 in /usr/local/lib/python3.10/dist-packages (from torchvision) (8.4.0)\n",
            "Requirement already satisfied: MarkupSafe>=2.0 in /usr/local/lib/python3.10/dist-packages (from jinja2->torch) (2.1.3)\n",
            "Requirement already satisfied: urllib3<1.27,>=1.21.1 in /usr/local/lib/python3.10/dist-packages (from requests->torchvision) (1.26.16)\n",
            "Requirement already satisfied: certifi>=2017.4.17 in /usr/local/lib/python3.10/dist-packages (from requests->torchvision) (2023.5.7)\n",
            "Requirement already satisfied: charset-normalizer~=2.0.0 in /usr/local/lib/python3.10/dist-packages (from requests->torchvision) (2.0.12)\n",
            "Requirement already satisfied: idna<4,>=2.5 in /usr/local/lib/python3.10/dist-packages (from requests->torchvision) (3.4)\n",
            "Requirement already satisfied: mpmath>=0.19 in /usr/local/lib/python3.10/dist-packages (from sympy->torch) (1.3.0)\n",
            "Collecting wandb\n",
            "  Downloading wandb-0.15.5-py3-none-any.whl (2.1 MB)\n",
            "\u001b[2K     \u001b[90m━━━━━━━━━━━━━━━━━━━━━━━━━━━━━━━━━━━━━━━━\u001b[0m \u001b[32m2.1/2.1 MB\u001b[0m \u001b[31m23.2 MB/s\u001b[0m eta \u001b[36m0:00:00\u001b[0m\n",
            "\u001b[?25hRequirement already satisfied: Click!=8.0.0,>=7.1 in /usr/local/lib/python3.10/dist-packages (from wandb) (8.1.4)\n",
            "Collecting GitPython!=3.1.29,>=1.0.0 (from wandb)\n",
            "  Downloading GitPython-3.1.32-py3-none-any.whl (188 kB)\n",
            "\u001b[2K     \u001b[90m━━━━━━━━━━━━━━━━━━━━━━━━━━━━━━━━━━━━━━\u001b[0m \u001b[32m188.5/188.5 kB\u001b[0m \u001b[31m19.3 MB/s\u001b[0m eta \u001b[36m0:00:00\u001b[0m\n",
            "\u001b[?25hRequirement already satisfied: requests<3,>=2.0.0 in /usr/local/lib/python3.10/dist-packages (from wandb) (2.27.1)\n",
            "Requirement already satisfied: psutil>=5.0.0 in /usr/local/lib/python3.10/dist-packages (from wandb) (5.9.5)\n",
            "Collecting sentry-sdk>=1.0.0 (from wandb)\n",
            "  Downloading sentry_sdk-1.28.1-py2.py3-none-any.whl (214 kB)\n",
            "\u001b[2K     \u001b[90m━━━━━━━━━━━━━━━━━━━━━━━━━━━━━━━━━━━━━━\u001b[0m \u001b[32m214.7/214.7 kB\u001b[0m \u001b[31m19.3 MB/s\u001b[0m eta \u001b[36m0:00:00\u001b[0m\n",
            "\u001b[?25hCollecting docker-pycreds>=0.4.0 (from wandb)\n",
            "  Downloading docker_pycreds-0.4.0-py2.py3-none-any.whl (9.0 kB)\n",
            "Requirement already satisfied: PyYAML in /usr/local/lib/python3.10/dist-packages (from wandb) (6.0)\n",
            "Collecting pathtools (from wandb)\n",
            "  Downloading pathtools-0.1.2.tar.gz (11 kB)\n",
            "  Preparing metadata (setup.py) ... \u001b[?25l\u001b[?25hdone\n",
            "Collecting setproctitle (from wandb)\n",
            "  Downloading setproctitle-1.3.2-cp310-cp310-manylinux_2_5_x86_64.manylinux1_x86_64.manylinux_2_17_x86_64.manylinux2014_x86_64.whl (30 kB)\n",
            "Requirement already satisfied: setuptools in /usr/local/lib/python3.10/dist-packages (from wandb) (67.7.2)\n",
            "Requirement already satisfied: appdirs>=1.4.3 in /usr/local/lib/python3.10/dist-packages (from wandb) (1.4.4)\n",
            "Requirement already satisfied: protobuf!=4.21.0,<5,>=3.19.0 in /usr/local/lib/python3.10/dist-packages (from wandb) (3.20.3)\n",
            "Requirement already satisfied: six>=1.4.0 in /usr/local/lib/python3.10/dist-packages (from docker-pycreds>=0.4.0->wandb) (1.16.0)\n",
            "Collecting gitdb<5,>=4.0.1 (from GitPython!=3.1.29,>=1.0.0->wandb)\n",
            "  Downloading gitdb-4.0.10-py3-none-any.whl (62 kB)\n",
            "\u001b[2K     \u001b[90m━━━━━━━━━━━━━━━━━━━━━━━━━━━━━━━━━━━━━━━━\u001b[0m \u001b[32m62.7/62.7 kB\u001b[0m \u001b[31m6.6 MB/s\u001b[0m eta \u001b[36m0:00:00\u001b[0m\n",
            "\u001b[?25hRequirement already satisfied: urllib3<1.27,>=1.21.1 in /usr/local/lib/python3.10/dist-packages (from requests<3,>=2.0.0->wandb) (1.26.16)\n",
            "Requirement already satisfied: certifi>=2017.4.17 in /usr/local/lib/python3.10/dist-packages (from requests<3,>=2.0.0->wandb) (2023.5.7)\n",
            "Requirement already satisfied: charset-normalizer~=2.0.0 in /usr/local/lib/python3.10/dist-packages (from requests<3,>=2.0.0->wandb) (2.0.12)\n",
            "Requirement already satisfied: idna<4,>=2.5 in /usr/local/lib/python3.10/dist-packages (from requests<3,>=2.0.0->wandb) (3.4)\n",
            "Collecting smmap<6,>=3.0.1 (from gitdb<5,>=4.0.1->GitPython!=3.1.29,>=1.0.0->wandb)\n",
            "  Downloading smmap-5.0.0-py3-none-any.whl (24 kB)\n",
            "Building wheels for collected packages: pathtools\n",
            "  Building wheel for pathtools (setup.py) ... \u001b[?25l\u001b[?25hdone\n",
            "  Created wheel for pathtools: filename=pathtools-0.1.2-py3-none-any.whl size=8791 sha256=1e2ae3021be93d7eb9c2394cfa1a12ca53521ab5443b7d959307d64f37e344c6\n",
            "  Stored in directory: /root/.cache/pip/wheels/e7/f3/22/152153d6eb222ee7a56ff8617d80ee5207207a8c00a7aab794\n",
            "Successfully built pathtools\n",
            "Installing collected packages: pathtools, smmap, setproctitle, sentry-sdk, docker-pycreds, gitdb, GitPython, wandb\n",
            "Successfully installed GitPython-3.1.32 docker-pycreds-0.4.0 gitdb-4.0.10 pathtools-0.1.2 sentry-sdk-1.28.1 setproctitle-1.3.2 smmap-5.0.0 wandb-0.15.5\n",
            "Collecting torchinfo\n",
            "  Downloading torchinfo-1.8.0-py3-none-any.whl (23 kB)\n",
            "Installing collected packages: torchinfo\n",
            "Successfully installed torchinfo-1.8.0\n"
          ]
        }
      ]
    },
    {
      "cell_type": "markdown",
      "source": [
        "# Handling Imports"
      ],
      "metadata": {
        "id": "91C3qtyG4PDy"
      }
    },
    {
      "cell_type": "code",
      "execution_count": null,
      "metadata": {
        "id": "JAPwoULh0WhV"
      },
      "outputs": [],
      "source": [
        "import torch\n",
        "import torch.nn as nn                           #imports the neural network module which contains the nn superclass\n",
        "import torch.optim as optim                     #imports the optimization algorithms such as gradient descent, adam etc\n",
        "import torch.nn.functional as F                 #has all the parameter-less functions, imports the activation functions(relu etc), but those can also be found in the nn package\n",
        "from torch.utils.data import DataLoader         #this provides a dataset class for data representation and a dataloader for iterating over the data among other things.\n",
        "import torchvision.datasets as datasets         #pytorch comes with datasets which can be imported through this\n",
        "import torchvision.transforms as transforms     #has methods to perform data augmentation operations such as cropping, resizing, normalization etc.\n",
        "\n",
        "device = torch.device('cuda' if torch.cuda.is_available() else 'cpu')"
      ]
    },
    {
      "cell_type": "markdown",
      "source": [],
      "metadata": {
        "id": "n0ucrvnWPfwQ"
      }
    },
    {
      "cell_type": "code",
      "source": [
        "from tqdm import tqdm\n",
        "from torchinfo import summary\n",
        "import torchsummary\n",
        "import numpy as np"
      ],
      "metadata": {
        "id": "QBtIRmTA8IEQ"
      },
      "execution_count": null,
      "outputs": []
    },
    {
      "cell_type": "markdown",
      "source": [
        "# Creating a CNN"
      ],
      "metadata": {
        "id": "-G3qb9fq4VRL"
      }
    },
    {
      "cell_type": "markdown",
      "source": [
        "## ResidualBlock and BottleneckBlock CNNs"
      ],
      "metadata": {
        "id": "1ydUN6LKqXcL"
      }
    },
    {
      "cell_type": "code",
      "source": [
        "class ResidualBlock(nn.Module):\n",
        "  def __init__(self, in_out_channels, kernel_size, stride, padding):\n",
        "    super().__init__()\n",
        "    self.conv1 = nn.Conv2d(in_out_channels, in_out_channels, kernel_size, stride, padding)\n",
        "    self.bn1 = nn.BatchNorm2d(in_out_channels)\n",
        "    self.relu1 = nn.ReLU()\n",
        "    self.conv2 = nn.Conv2d(in_out_channels, in_out_channels, kernel_size, stride, padding)\n",
        "    self.bn2 = nn.BatchNorm2d(in_out_channels)\n",
        "    self.relu2 = nn.ReLU()\n",
        "\n",
        "  def forward(self, x):\n",
        "    residual = x\n",
        "    x = self.bn1(self.conv1(x))\n",
        "    x = self.relu1(x)\n",
        "    x = self.bn2(self.conv2(x))\n",
        "    x = x + residual     # skip connection\n",
        "    x = self.relu2(x)\n",
        "    return x\n",
        "\n",
        "\n",
        "class BottleneckBlock(nn.Module):\n",
        "  def __init__(self, in_out_channels, kernel_size, stride, padding, reduction_ratio):\n",
        "    super().__init__()\n",
        "    self.conv1 = nn.Conv2d(in_out_channels, in_out_channels//reduction_ratio, 1, 1, 0)\n",
        "    self.bn1 = nn.BatchNorm2d(in_out_channels//reduction_ratio)\n",
        "    self.relu1 = nn.ReLU()\n",
        "    self.conv2 = nn.Conv2d(in_out_channels//reduction_ratio, in_out_channels//reduction_ratio, 3, 1, 0)\n",
        "    self.bn2 = nn.BatchNorm2d(in_out_channels//reduction_ratio)\n",
        "    self.relu2 = nn.ReLU()\n",
        "    self.conv3 = nn.Conv2d(in_out_channels//reduction_ratio, in_out_channels, 1, 1, 0)\n",
        "    self.bn3 = nn.BatchNorm2d(in_out_channels)\n",
        "    self.relu3 = nn.ReLU()\n",
        "\n",
        "  def forward(self, x):\n",
        "    residual = x\n",
        "    x = self.relu1(self.bn1(self.conv1(x)))\n",
        "    x = self.relu2(self.bn2(self.conv2(x)))\n",
        "    x = self.bn3(self.conv3(x))\n",
        "    x = x + residual\n",
        "    x = self.relu3(x)\n",
        "    return x\n",
        "\n",
        "class MaaChodCNN(nn.Module):\n",
        "  def __init__(self, in_channels=1, num_classes=10):\n",
        "    super().__init__()\n",
        "    self.conv1 = nn.Conv2d(in_channels=in_channels, out_channels=16, kernel_size=7, stride=1, padding=3)\n",
        "    self.pool1 = nn.MaxPool2d((2,2), (2, 2))\n",
        "    self.residualblock1 = ResidualBlock(16, 3, 1, 1)\n",
        "    self.residualblock2 = ResidualBlock(16, 3, 1, 1)\n",
        "    self.pool2 = nn.MaxPool2d((2, 2), (2, 2))\n",
        "    self.flatten = nn.Flatten()\n",
        "    self.fc = nn.Linear(16*7*7, num_classes)\n",
        "\n",
        "  def forward(self, x):\n",
        "    x = self.conv1(x)\n",
        "    x = self.pool1(x)\n",
        "    x = self.residualblock1(x)\n",
        "    x = self.residualblock2(x)\n",
        "    x = self.pool2(x)\n",
        "    x = self.flatten(x)\n",
        "    x = self.fc(x)\n",
        "    return x\n",
        "\n",
        "\n",
        "model = MaaChodCNN(1, 10).to(device)\n",
        "summary(model, (64, 1, 28, 28))"
      ],
      "metadata": {
        "id": "HJaedbM31LSm",
        "colab": {
          "base_uri": "https://localhost:8080/"
        },
        "outputId": "7d7e8381-51a0-42f4-fcf6-ee6f6eb89ab3"
      },
      "execution_count": null,
      "outputs": [
        {
          "output_type": "execute_result",
          "data": {
            "text/plain": [
              "==========================================================================================\n",
              "Layer (type:depth-idx)                   Output Shape              Param #\n",
              "==========================================================================================\n",
              "MaaChodCNN                               [64, 10]                  --\n",
              "├─Conv2d: 1-1                            [64, 16, 28, 28]          800\n",
              "├─MaxPool2d: 1-2                         [64, 16, 14, 14]          --\n",
              "├─ResidualBlock: 1-3                     [64, 16, 14, 14]          --\n",
              "│    └─Conv2d: 2-1                       [64, 16, 14, 14]          2,320\n",
              "│    └─BatchNorm2d: 2-2                  [64, 16, 14, 14]          32\n",
              "│    └─ReLU: 2-3                         [64, 16, 14, 14]          --\n",
              "│    └─Conv2d: 2-4                       [64, 16, 14, 14]          2,320\n",
              "│    └─BatchNorm2d: 2-5                  [64, 16, 14, 14]          32\n",
              "│    └─ReLU: 2-6                         [64, 16, 14, 14]          --\n",
              "├─ResidualBlock: 1-4                     [64, 16, 14, 14]          --\n",
              "│    └─Conv2d: 2-7                       [64, 16, 14, 14]          2,320\n",
              "│    └─BatchNorm2d: 2-8                  [64, 16, 14, 14]          32\n",
              "│    └─ReLU: 2-9                         [64, 16, 14, 14]          --\n",
              "│    └─Conv2d: 2-10                      [64, 16, 14, 14]          2,320\n",
              "│    └─BatchNorm2d: 2-11                 [64, 16, 14, 14]          32\n",
              "│    └─ReLU: 2-12                        [64, 16, 14, 14]          --\n",
              "├─MaxPool2d: 1-5                         [64, 16, 7, 7]            --\n",
              "├─Flatten: 1-6                           [64, 784]                 --\n",
              "├─Linear: 1-7                            [64, 10]                  7,850\n",
              "==========================================================================================\n",
              "Total params: 18,058\n",
              "Trainable params: 18,058\n",
              "Non-trainable params: 0\n",
              "Total mult-adds (M): 157.06\n",
              "==========================================================================================\n",
              "Input size (MB): 0.20\n",
              "Forward/backward pass size (MB): 19.27\n",
              "Params size (MB): 0.07\n",
              "Estimated Total Size (MB): 19.55\n",
              "=========================================================================================="
            ]
          },
          "metadata": {},
          "execution_count": 50
        }
      ]
    },
    {
      "cell_type": "markdown",
      "source": [
        "## Normal CNN"
      ],
      "metadata": {
        "id": "oGIKUm4lqd_H"
      }
    },
    {
      "cell_type": "code",
      "source": [
        "class CNN(nn.Module):\n",
        "  def __init__(self, in_channels=1, num_classes=10):                                                                       #constructor method which creates the object of the written class\n",
        "    super(CNN, self).__init__()                                                                                          #super method which inherits the methods from the parent nn.Module class\n",
        "    self.layers = nn.Sequential(\n",
        "      nn.Conv2d(in_channels=in_channels, out_channels=16, kernel_size=7, stride=1, padding=3),\n",
        "      nn.MaxPool2d(kernel_size=2, stride=2),\n",
        "      nn.BatchNorm2d(16),\n",
        "      nn.ReLU(),\n",
        "      nn.Dropout(0.2),\n",
        "      nn.Conv2d(in_channels=16, out_channels=32, kernel_size=3, stride=1, padding=1),\n",
        "      nn.MaxPool2d(kernel_size=2, stride=2),\n",
        "      nn.BatchNorm2d(32),\n",
        "      nn.ReLU(),\n",
        "      nn.Dropout(0.2),\n",
        "      nn.Flatten(),\n",
        "      nn.Linear(32*7*7, num_classes)\n",
        "    )\n",
        "\n",
        "  def forward(self, x):\n",
        "    x = self.layers(x)\n",
        "    return x\n",
        "\n",
        "\n",
        "model = CNN(1, 10)\n",
        "\n",
        "# summary(model, (1, 28, 28))\n",
        "summary(model, input_size=(64, 1, 28, 28))"
      ],
      "metadata": {
        "id": "aY0BoaXPkUsH"
      },
      "execution_count": null,
      "outputs": []
    },
    {
      "cell_type": "markdown",
      "source": [
        "# Set Device"
      ],
      "metadata": {
        "id": "YckVqVa7AV71"
      }
    },
    {
      "cell_type": "code",
      "source": [
        " #sets the device to cuda or cpu depending on the avaialability\n",
        "\n",
        "device = torch.device('cuda' if torch.cuda.is_available() else 'cpu')"
      ],
      "metadata": {
        "id": "qtrTZrPGAUnP"
      },
      "execution_count": null,
      "outputs": []
    },
    {
      "cell_type": "markdown",
      "source": [
        "# Check if the model has any errors in the structure"
      ],
      "metadata": {
        "id": "T0U_U3KdBfDE"
      }
    },
    {
      "cell_type": "code",
      "source": [
        "model = model.to(device)"
      ],
      "metadata": {
        "id": "FBE6KYglBefM"
      },
      "execution_count": null,
      "outputs": []
    },
    {
      "cell_type": "markdown",
      "source": [
        "# Hyperparameters"
      ],
      "metadata": {
        "id": "kXJc3zANApOH"
      }
    },
    {
      "cell_type": "code",
      "source": [
        "in_channels = 1\n",
        "batch_size = 64\n",
        "learning_rate = 10e-4\n",
        "\n",
        "#output labels\n",
        "num_classes = 10\n",
        "\n",
        "#number of epochs the model is training for\n",
        "num_epochs = 20"
      ],
      "metadata": {
        "id": "EQTOBH1YAofG"
      },
      "execution_count": null,
      "outputs": []
    },
    {
      "cell_type": "markdown",
      "source": [
        "# Transforms"
      ],
      "metadata": {
        "id": "l22cP0Wc0hMS"
      }
    },
    {
      "cell_type": "code",
      "source": [
        "train_transforms = transforms.Compose([ transforms.ToTensor() , transforms.Normalize((0.1307), (0.3081)), transforms.RandomRotation(5), transforms.Resize((30,30)), transforms.CenterCrop((28,28))])"
      ],
      "metadata": {
        "id": "HtbYLjVz0gyr"
      },
      "execution_count": null,
      "outputs": []
    },
    {
      "cell_type": "markdown",
      "source": [
        "# Load Data"
      ],
      "metadata": {
        "id": "zS2zlCGsqA7t"
      }
    },
    {
      "cell_type": "code",
      "source": [
        "#loading the dataset from pytorch\n",
        "\n",
        "train_dataset = datasets.MNIST(root='dataset/', train=True, transform=train_transforms, download=True) #downloads the MNIST dataset if it isn't already installed\n",
        "val_dataset = datasets.MNIST(root='dataset/', train=False, transform=train_transforms, download=True)\n"
      ],
      "metadata": {
        "id": "UGQsf0K0qEsf"
      },
      "execution_count": null,
      "outputs": []
    },
    {
      "cell_type": "markdown",
      "source": [
        "# Initialzing Data Loaders"
      ],
      "metadata": {
        "id": "J3JpM3FCxigv"
      }
    },
    {
      "cell_type": "code",
      "source": [
        "#initialzing the data loaders for train,val and test sets respectively\n",
        "\n",
        "train_loader = DataLoader(dataset=train_dataset, batch_size=batch_size, shuffle=True)\n",
        "val_loader = DataLoader(dataset=val_dataset, batch_size=batch_size, shuffle=True)"
      ],
      "metadata": {
        "id": "xYBHYGRmvCxz"
      },
      "execution_count": null,
      "outputs": []
    },
    {
      "cell_type": "markdown",
      "source": [
        "# Initialize Network"
      ],
      "metadata": {
        "id": "qRs4eW0pYQLS"
      }
    },
    {
      "cell_type": "markdown",
      "source": [
        "# Loss and Optimizer"
      ],
      "metadata": {
        "id": "5KzbwI9Trikq"
      }
    },
    {
      "cell_type": "code",
      "source": [
        "#choosing the loss function and optimizing algorithm\n",
        "\n",
        "criterion = nn.CrossEntropyLoss()\n",
        "optimizer = optim.Adam(model.parameters(), lr=learning_rate)"
      ],
      "metadata": {
        "id": "a3kaEMIDpPcv"
      },
      "execution_count": null,
      "outputs": []
    },
    {
      "cell_type": "markdown",
      "source": [
        "# Train Network"
      ],
      "metadata": {
        "id": "K2HDpbc-r_Ca"
      }
    },
    {
      "cell_type": "code",
      "source": [
        "def check_accuracy(model, loader):\n",
        "    num_correct = 0\n",
        "    num_samples = 0\n",
        "    model.eval()\n",
        "\n",
        "    with torch.no_grad():\n",
        "        for x, y in loader:\n",
        "            x = x.to(device=device)\n",
        "            y = y.to(device=device)\n",
        "\n",
        "            scores = model(x)\n",
        "            _, predictions = scores.max(1)\n",
        "            num_correct += (predictions == y).sum()\n",
        "            num_samples += predictions.size(0)\n",
        "\n",
        "    model.train()\n",
        "    return num_correct / num_samples"
      ],
      "metadata": {
        "id": "19agcWqGwGUN"
      },
      "execution_count": null,
      "outputs": []
    },
    {
      "cell_type": "code",
      "source": [
        "def train(epoch, train_losses, train_accuracies):\n",
        "\n",
        "    train_loss=0\n",
        "    loop = tqdm(train_loader)\n",
        "\n",
        "    for batch_idx, (data, targets) in enumerate(loop):\n",
        "\n",
        "        #get data to cuda if possible\n",
        "        data = data.to(device=device)\n",
        "        targets = targets.to(device=device)\n",
        "\n",
        "        #forward\n",
        "        scores = model(data)\n",
        "        loss = criterion(scores, targets)\n",
        "\n",
        "        #backward\n",
        "        optimizer.zero_grad() #so it doesnt store gradients from prev back props\n",
        "        loss.backward()\n",
        "\n",
        "        #gradient descent or adam step\n",
        "        optimizer.step()\n",
        "\n",
        "        #accumulating loss over an epoch\n",
        "        train_loss += loss.item()\n",
        "\n",
        "        loop.set_description(f\"Epoch [{epoch}/{num_epochs}]\")\n",
        "        loop.set_postfix(loss=loss.item(), acc=torch.rand(1).item())\n",
        "\n",
        "    train_loss = train_loss/len(train_loader)\n",
        "    train_losses.append(train_loss)\n",
        "\n",
        "    train_accuracy = check_accuracy(model, train_loader)\n",
        "    train_accuracies.append(train_accuracy)\n",
        "\n",
        "    return train_loss, train_accuracy"
      ],
      "metadata": {
        "id": "YDuWUk2wr-sM"
      },
      "execution_count": null,
      "outputs": []
    },
    {
      "cell_type": "markdown",
      "source": [
        "# Validation Loss\n"
      ],
      "metadata": {
        "id": "XNkQ33PjHHtT"
      }
    },
    {
      "cell_type": "code",
      "source": [
        "# calculating the loss for val_set\n",
        "\n",
        "def val(epoch, val_losses, val_accuracies):\n",
        "\n",
        "  val_loss=0\n",
        "\n",
        "  with torch.no_grad():\n",
        "    for batch_idx, (data, targets) in enumerate(val_loader): # dividing into batches is popssibly unecessary (will check later)\n",
        "\n",
        "      #calling the model with the val data and calculating the loss\n",
        "      scores = model(data)\n",
        "      loss = criterion(scores, targets)\n",
        "\n",
        "      #accumulating val loss over an epoch\n",
        "      val_loss += loss.item()\n",
        "\n",
        "  val_loss = val_loss/len(val_loader)\n",
        "  val_losses.append(val_loss)\n",
        "\n",
        "  val_accuracy = check_accuracy(model, val_loader)\n",
        "  val_accuracies.append(val_accuracy)\n",
        "\n",
        "  return val_loss, val_accuracy\n"
      ],
      "metadata": {
        "id": "369qWEwUHHhy"
      },
      "execution_count": null,
      "outputs": []
    },
    {
      "cell_type": "markdown",
      "source": [
        "# Training the model over epochs\n"
      ],
      "metadata": {
        "id": "UubDhoE1HSxV"
      }
    },
    {
      "cell_type": "code",
      "source": [
        "train_losses = []\n",
        "train_accuracies = []\n",
        "val_losses = []\n",
        "val_accuracies = []"
      ],
      "metadata": {
        "id": "RAjBDsY3oM5k"
      },
      "execution_count": null,
      "outputs": []
    },
    {
      "cell_type": "code",
      "source": [
        "#loops for 20 epochs (will add print statements)\n",
        "\n",
        "\n",
        "for epoch in range(num_epochs):\n",
        "    model.train()\n",
        "    loss_train, acc_train = train(epoch, train_losses, train_accuracies)\n",
        "    model.eval()\n",
        "    loss_valid, acc_valid = val(epoch, val_losses, val_accuracies)\n",
        "\n",
        "    # wandb.log({\n",
        "    #     \"Epoch\": epoch,\n",
        "    #     \"Train Loss\": loss_train,\n",
        "    #     \"Train Acc\": acc_train,\n",
        "    #     \"Valid Loss\": loss_valid,\n",
        "    #     \"Valid Acc\": acc_valid})\n",
        "\n",
        "    print(f'Epoch: {epoch}  Train Loss: {loss_train:.4f}  Train Acc: {acc_train:.4f}  Valid Loss: {loss_valid:.4f}  Valid Acc: {acc_valid:.4f}')\n"
      ],
      "metadata": {
        "id": "_NYPGP0_HSRS",
        "colab": {
          "base_uri": "https://localhost:8080/"
        },
        "outputId": "33a9682f-23df-4220-8ad4-0b87a58e0907"
      },
      "execution_count": null,
      "outputs": [
        {
          "output_type": "stream",
          "name": "stderr",
          "text": [
            "  0%|          | 0/938 [00:00<?, ?it/s]/usr/local/lib/python3.10/dist-packages/torchvision/transforms/functional.py:1603: UserWarning: The default value of the antialias parameter of all the resizing transforms (Resize(), RandomResizedCrop(), etc.) will change from None to True in v0.17, in order to be consistent across the PIL and Tensor backends. To suppress this warning, directly pass antialias=True (recommended, future default), antialias=None (current default, which means False for Tensors and True for PIL), or antialias=False (only works on Tensors - PIL will still use antialiasing). This also applies if you are using the inference transforms from the models weights: update the call to weights.transforms(antialias=True).\n",
            "  warnings.warn(\n",
            "Epoch [0/20]: 100%|██████████| 938/938 [02:10<00:00,  7.20it/s, acc=1, loss=0.285]\n"
          ]
        },
        {
          "output_type": "stream",
          "name": "stdout",
          "text": [
            "Epoch: 0  Train Loss: 0.1381  Train Acc: 0.9779  Valid Loss: 0.0613  Valid Acc: 0.9813\n"
          ]
        },
        {
          "output_type": "stream",
          "name": "stderr",
          "text": [
            "Epoch [1/20]: 100%|██████████| 938/938 [02:09<00:00,  7.23it/s, acc=0.214, loss=0.00603]\n"
          ]
        },
        {
          "output_type": "stream",
          "name": "stdout",
          "text": [
            "Epoch: 1  Train Loss: 0.0549  Train Acc: 0.9826  Valid Loss: 0.0596  Valid Acc: 0.9815\n"
          ]
        },
        {
          "output_type": "stream",
          "name": "stderr",
          "text": [
            "Epoch [2/20]: 100%|██████████| 938/938 [02:09<00:00,  7.23it/s, acc=0.738, loss=0.0155]\n"
          ]
        },
        {
          "output_type": "stream",
          "name": "stdout",
          "text": [
            "Epoch: 2  Train Loss: 0.0431  Train Acc: 0.9830  Valid Loss: 0.0558  Valid Acc: 0.9827\n"
          ]
        },
        {
          "output_type": "stream",
          "name": "stderr",
          "text": [
            "Epoch [3/20]: 100%|██████████| 938/938 [02:10<00:00,  7.20it/s, acc=0.703, loss=0.00217]\n"
          ]
        },
        {
          "output_type": "stream",
          "name": "stdout",
          "text": [
            "Epoch: 3  Train Loss: 0.0367  Train Acc: 0.9885  Valid Loss: 0.0441  Valid Acc: 0.9873\n"
          ]
        },
        {
          "output_type": "stream",
          "name": "stderr",
          "text": [
            "Epoch [4/20]:  80%|████████  | 753/938 [01:43<00:23,  7.80it/s, acc=0.913, loss=0.0727]"
          ]
        }
      ]
    },
    {
      "cell_type": "markdown",
      "source": [
        "# Accuracy Check"
      ],
      "metadata": {
        "id": "O9ZeafxdwG0p"
      }
    },
    {
      "cell_type": "markdown",
      "source": [
        "# Checking the accuracy on training, validation and test sets\n"
      ],
      "metadata": {
        "id": "L7MrP-flPy5-"
      }
    },
    {
      "cell_type": "code",
      "source": [
        "print(f\"Accuracy on training set: {check_accuracy(train_loader, model)*100:.2f}\") #highest was 99.66\n",
        "print(f\"Accuracy on validation set: {check_accuracy(val_loader, model)*100:.2f}\")\n",
        "# print(f\"Accuracy on test set: {check_accuracy(test_loader, model)*100:.2f}\") #highest was 98.68"
      ],
      "metadata": {
        "colab": {
          "base_uri": "https://localhost:8080/"
        },
        "id": "fl0zP_SZrnoP",
        "outputId": "bc221af4-81fc-483e-e9a3-cdb378b3c8e9"
      },
      "execution_count": null,
      "outputs": [
        {
          "output_type": "stream",
          "name": "stdout",
          "text": [
            "Accuracy on training set: 99.63\n",
            "Accuracy on validation set: 99.28\n"
          ]
        }
      ]
    },
    {
      "cell_type": "markdown",
      "source": [
        "# Plotting the Train Loss and Validation loss vs number of epochs"
      ],
      "metadata": {
        "id": "Ikmzkm8YMu8y"
      }
    },
    {
      "cell_type": "code",
      "source": [
        "from matplotlib import pyplot as plt\n",
        "\n",
        "plt.plot(train_losses,'-o')\n",
        "plt.plot(val_losses,'-o')\n",
        "plt.xlabel('epoch')\n",
        "plt.ylabel('losses')\n",
        "plt.legend(['Train','Validation'])\n",
        "plt.title('Train vs Validation Losses')\n",
        "\n",
        "plt.show()"
      ],
      "metadata": {
        "colab": {
          "base_uri": "https://localhost:8080/"
        },
        "id": "Nhm7zNQbCAay",
        "outputId": "6c72f032-9df8-46fe-a729-923141748b55"
      },
      "execution_count": null,
      "outputs": [
        {
          "output_type": "display_data",
          "data": {
            "text/plain": [
              "<Figure size 640x480 with 1 Axes>"
            ],
            "image/png": "[encoded data removed]"
          },
          "metadata": {}
        }
      ]
    },
    {
      "cell_type": "code",
      "source": [
        "def count_parameters(model):\n",
        "    return sum(p.numel() for p in model.parameters() if p.requires_grad)"
      ],
      "metadata": {
        "id": "fQpHcLLZyj0f"
      },
      "execution_count": null,
      "outputs": []
    },
    {
      "cell_type": "code",
      "source": [
        "print(count_parameters(model))"
      ],
      "metadata": {
        "colab": {
          "base_uri": "https://localhost:8080/"
        },
        "id": "Ku81GfqlhHXG",
        "outputId": "537f7b07-7de1-44d7-e971-a1dfbc38982d"
      },
      "execution_count": null,
      "outputs": [
        {
          "output_type": "stream",
          "name": "stdout",
          "text": [
            "20842\n"
          ]
        }
      ]
    },
    {
      "cell_type": "code",
      "source": [],
      "metadata": {
        "id": "HGg9N2EAhN_L"
      },
      "execution_count": null,
      "outputs": []
    }
  ]
}