{
  "cells": [
    {
      "attachments": {},
      "cell_type": "markdown",
      "metadata": {
        "id": "91C3qtyG4PDy"
      },
      "source": [
        "# Handling Imports"
      ]
    },
    {
      "cell_type": "code",
      "execution_count": 303,
      "metadata": {
        "id": "JAPwoULh0WhV"
      },
      "outputs": [],
      "source": [
        "import torch\n",
        "import torch.nn as nn                           #imports the neural network module which contains the nn superclass\n",
        "import torch.optim as optim                     #imports the optimization algorithms such as gradient descent, adam etc\n",
        "import torch.nn.functional as F                 #has all the parameter-less functions, imports the activation functions(relu etc), but those can also be found in the nn package\n",
        "from torch.utils.data import DataLoader         #this provides a dataset class for data representation and a dataloader for iterating over the data among other things.\n",
        "import torchvision.datasets as datasets         #pytorch comes with datasets which can be imported through this\n",
        "import torchvision.transforms as transforms     #has methods to perform data augmentation operations such as cropping, resizing, normalization etc.\n",
        "import wandb\n",
        "from tqdm import tqdm\n",
        "import pandas as pd"
      ]
    },
    {
      "attachments": {},
      "cell_type": "markdown",
      "metadata": {
        "id": "n0ucrvnWPfwQ"
      },
      "source": []
    },
    {
      "attachments": {},
      "cell_type": "markdown",
      "metadata": {
        "id": "-G3qb9fq4VRL"
      },
      "source": [
        "# Creating a CNN"
      ]
    },
    {
      "cell_type": "code",
      "execution_count": 304,
      "metadata": {
        "id": "HJaedbM31LSm"
      },
      "outputs": [],
      "source": [
        "class CNN(nn.Module):\n",
        "  def __init__(self,in_channels=1,num_classes=10):                                                                       #constructor method which creates the object of the written class\n",
        "    super(CNN, self).__init__()                                                                                          #super method which inherits the methods from the parent nn.Module class\n",
        "    self.conv1 = nn.Conv2d(in_channels = in_channels, out_channels = 8, kernel_size=(3,3), stride=(1,1), padding=(1,1))  #same convolution gives the same dimensions of the image as output\n",
        "    self.pool1 = nn.MaxPool2d(kernel_size=(2,2), stride=(2,2))                                                           #decreases the image dimensions by 2 times\n",
        "    self.conv1_bn = nn.BatchNorm2d(8) \n",
        "    self.conv2 = nn.Conv2d(in_channels = 8, out_channels = 16, kernel_size=(3,3), stride=(1,1), padding=(1,1))           #same convolution 2\n",
        "    self.conv2_bn = nn.BatchNorm2d(16)\n",
        "    self.fc1 = nn.Linear(16*7*7, num_classes)                                                                            #fully connectetd layer\n",
        "    # self.fc1_bn = nn.BatchNorm1d(8*7*7)\n",
        "    # self.fc2 = nn.Linear(8*7*7, num_classes)\n",
        "    \n",
        "  def forward(self, x):              #forward-prop method\n",
        "    x = self.conv1(x)        #relu activation unit after convolution\n",
        "    x = self.pool1(x)                #max pool layer\n",
        "    x = F.relu(self.conv1_bn(x))\n",
        "    x = self.conv2(x)\n",
        "    x = self.pool1(x)                #max pool layer\n",
        "    x = F.relu(self.conv2_bn(x))     #convolutuion + activation unit 2\n",
        "    x = x.reshape(x.shape[0], -1)    #flatten the output to generate the input for a fully connected layer\n",
        "    x = self.fc1(x)                  #fully connected layer\n",
        "    # x = F.relu(self.fc1_bn(x))\n",
        "    # x = self.fc2(x)\n",
        "    x = F.softmax(x, dim = 1)\n",
        "    return x"
      ]
    },
    {
      "attachments": {},
      "cell_type": "markdown",
      "metadata": {},
      "source": [
        "# computing the mean, std"
      ]
    },
    {
      "cell_type": "code",
      "execution_count": 305,
      "metadata": {},
      "outputs": [],
      "source": [
        "def mean_std(loader):\n",
        "  sum, squared_sum, num_batches = 0,0,0\n",
        "  for data,_ in loader:\n",
        "    sum += torch.mean(data,dim=[0,2,3])\n",
        "    squared_sum += torch.mean(data**2,dim=[0,2,3])\n",
        "    num_batches += 1\n",
        "  mean = sum/num_batches\n",
        "  std = (squared_sum/num_batches - mean**2)**0.5\n",
        "  return mean, std\n"
      ]
    },
    {
      "attachments": {},
      "cell_type": "markdown",
      "metadata": {},
      "source": [
        "# Check Accuracy"
      ]
    },
    {
      "cell_type": "code",
      "execution_count": 306,
      "metadata": {},
      "outputs": [],
      "source": [
        "def check_accuracy(loader, model):\n",
        "    num_correct = 0\n",
        "    num_samples = 0\n",
        "    model.eval()\n",
        "\n",
        "    with torch.no_grad():\n",
        "        for x, y in loader:\n",
        "            x = x.to(device=device)\n",
        "            y = y.to(device=device)\n",
        "\n",
        "            scores = model(x)\n",
        "            _, predictions = scores.max(1)\n",
        "            num_correct += (predictions == y).sum()\n",
        "            num_samples += predictions.size(0)\n",
        "\n",
        "    model.train()\n",
        "    return num_correct / num_samples"
      ]
    },
    {
      "attachments": {},
      "cell_type": "markdown",
      "metadata": {
        "id": "T0U_U3KdBfDE"
      },
      "source": [
        "# Check if the model has any errors in the structure"
      ]
    },
    {
      "cell_type": "code",
      "execution_count": 307,
      "metadata": {
        "colab": {
          "base_uri": "https://localhost:8080/"
        },
        "id": "FBE6KYglBefM",
        "outputId": "adaa823c-0d31-484f-f587-ca177be6a217"
      },
      "outputs": [
        {
          "name": "stdout",
          "output_type": "stream",
          "text": [
            "torch.Size([64, 10])\n"
          ]
        }
      ],
      "source": [
        "model = CNN()\n",
        "\n",
        "#generates a dummy tensor to check the model parameters\n",
        "x = torch.randn(64, 1, 28, 28)\n",
        "print(model(x).shape)"
      ]
    },
    {
      "attachments": {},
      "cell_type": "markdown",
      "metadata": {
        "id": "YckVqVa7AV71"
      },
      "source": [
        "# Set Device"
      ]
    },
    {
      "cell_type": "code",
      "execution_count": 308,
      "metadata": {
        "id": "qtrTZrPGAUnP"
      },
      "outputs": [],
      "source": [
        " #sets the device to cuda or cpu depending on the avaialability\n",
        "\n",
        "device = torch.device('cuda' if torch.cuda.is_available() else 'cpu')\n",
        "# device = torch.device('cpu')"
      ]
    },
    {
      "attachments": {},
      "cell_type": "markdown",
      "metadata": {
        "id": "kXJc3zANApOH"
      },
      "source": [
        "# Hyperparameters"
      ]
    },
    {
      "cell_type": "code",
      "execution_count": 309,
      "metadata": {},
      "outputs": [
        {
          "data": {
            "text/plain": [
              "True"
            ]
          },
          "execution_count": 309,
          "metadata": {},
          "output_type": "execute_result"
        }
      ],
      "source": [
        "wandb.login()"
      ]
    },
    {
      "cell_type": "code",
      "execution_count": 310,
      "metadata": {
        "id": "EQTOBH1YAofG"
      },
      "outputs": [],
      "source": [
        "in_channels = 1\n",
        "batch_size = 16\n",
        "learning_rate = 10e-4\n",
        "\n",
        "#output labels\n",
        "num_classes = 10\n",
        "\n",
        "#number of epochs the model is training for\n",
        "num_epochs = 15"
      ]
    },
    {
      "cell_type": "code",
      "execution_count": 311,
      "metadata": {},
      "outputs": [],
      "source": [
        "# run = wandb.init(\n",
        "#     # Set the project where this run will be logged\n",
        "#     project=\"mnist\",\n",
        "#     # Track hyperparameters and run metadata\n",
        "#     config={\n",
        "#         \"learning_rate\": learning_rate,\n",
        "#         \"epochs\": num_epochs;\n",
        "#     })\n"
      ]
    },
    {
      "attachments": {},
      "cell_type": "markdown",
      "metadata": {},
      "source": [
        "# Transformations"
      ]
    },
    {
      "cell_type": "code",
      "execution_count": 312,
      "metadata": {},
      "outputs": [],
      "source": [
        "train_transforms = transforms.Compose([ transforms.ToTensor() , transforms.Normalize((0.1307), (0.3081))])"
      ]
    },
    {
      "attachments": {},
      "cell_type": "markdown",
      "metadata": {
        "id": "zS2zlCGsqA7t"
      },
      "source": [
        "# Load Data"
      ]
    },
    {
      "cell_type": "code",
      "execution_count": 313,
      "metadata": {
        "colab": {
          "base_uri": "https://localhost:8080/"
        },
        "id": "UGQsf0K0qEsf",
        "outputId": "97cca0e1-3683-4abb-a2e6-3a5a4a4eb0a7"
      },
      "outputs": [],
      "source": [
        "#loading the dataset from pytorch\n",
        "\n",
        "train_dataset = datasets.MNIST(root='dataset/', train=True, transform=train_transforms, download=True) #downloads the MNIST dataset if it isn't already installed\n",
        "val_dataset = datasets.MNIST(root='dataset/', train=False, transform=train_transforms, download=True)\n"
      ]
    },
    {
      "attachments": {},
      "cell_type": "markdown",
      "metadata": {
        "id": "e7GElmXBsYhs"
      },
      "source": [
        "# Splitting the dataset into train and val set"
      ]
    },
    {
      "cell_type": "code",
      "execution_count": 314,
      "metadata": {
        "colab": {
          "base_uri": "https://localhost:8080/"
        },
        "id": "qtQZQYTgsYRW",
        "outputId": "cbf3e5d1-9f88-45a1-b5aa-8049ea7a4123"
      },
      "outputs": [
        {
          "name": "stdout",
          "output_type": "stream",
          "text": [
            "60000\n",
            "10000\n"
          ]
        }
      ],
      "source": [
        "#splits the dataset of size 60000 into 50k and 10k respectively for the train and val set\n",
        "\n",
        "# train_set, val_set = torch.utils.data.random_split(train_dataset, [50000, 10000])\n",
        "# print(len(train_set))\n",
        "# print(len(val_set))\n",
        "print(len(train_dataset))\n",
        "print(len(val_dataset))"
      ]
    },
    {
      "attachments": {},
      "cell_type": "markdown",
      "metadata": {
        "id": "J3JpM3FCxigv"
      },
      "source": [
        "# Initialzing Data Loaders"
      ]
    },
    {
      "cell_type": "code",
      "execution_count": 315,
      "metadata": {
        "id": "xYBHYGRmvCxz"
      },
      "outputs": [],
      "source": [
        "#initialzing the data loaders for train,val and test sets respectively\n",
        "\n",
        "train_loader = DataLoader(dataset=train_dataset, batch_size=batch_size, shuffle=True)\n",
        "# val_loader = DataLoader(dataset=val_set, batch_size=batch_size, shuffle=True)\n",
        "val_loader = DataLoader(dataset=val_dataset, batch_size=batch_size, shuffle=True)\n",
        "\n",
        "# mean,std = mean_std(train_loader)\n",
        "# print(mean)\n",
        "# print(std)"
      ]
    },
    {
      "attachments": {},
      "cell_type": "markdown",
      "metadata": {
        "id": "qRs4eW0pYQLS"
      },
      "source": [
        "# Initialize Network"
      ]
    },
    {
      "cell_type": "code",
      "execution_count": 316,
      "metadata": {
        "id": "e-dQSGeHYPU-"
      },
      "outputs": [],
      "source": [
        "#initializing the model\n",
        "\n",
        "model = CNN().to(device)"
      ]
    },
    {
      "attachments": {},
      "cell_type": "markdown",
      "metadata": {
        "id": "5KzbwI9Trikq"
      },
      "source": [
        "# Loss and Optimizer"
      ]
    },
    {
      "cell_type": "code",
      "execution_count": 317,
      "metadata": {
        "id": "a3kaEMIDpPcv"
      },
      "outputs": [],
      "source": [
        "#choosing the loss function and optimizing algorithm\n",
        "\n",
        "criterion = nn.CrossEntropyLoss()\n",
        "optimizer = optim.Adam(model.parameters(), lr=learning_rate)"
      ]
    },
    {
      "attachments": {},
      "cell_type": "markdown",
      "metadata": {
        "id": "K2HDpbc-r_Ca"
      },
      "source": [
        "# Train Network"
      ]
    },
    {
      "cell_type": "code",
      "execution_count": 318,
      "metadata": {
        "id": "YDuWUk2wr-sM"
      },
      "outputs": [],
      "source": [
        "train_losses = []\n",
        "train_accuracies = []\n",
        "\n",
        "def train(epoch):\n",
        "    train_loss = 0\n",
        "    loop = tqdm(enumerate(train_loader), total=len(train_loader))\n",
        "    for batch_idx, (data, targets) in loop:\n",
        "        # get data to cuda if possible\n",
        "        data = data.to(device=device)\n",
        "        targets = targets.to(device=device)\n",
        "\n",
        "        # forward\n",
        "        scores = model(data)\n",
        "        loss = criterion(scores, targets)\n",
        "\n",
        "        # backward\n",
        "        optimizer.zero_grad()  # so it doesn't store gradients from previous backprops\n",
        "        loss.backward()\n",
        "\n",
        "        # gradient descent or adam step\n",
        "        optimizer.step()\n",
        "\n",
        "        # accumulating loss over an epoch\n",
        "        train_loss += loss.item()\n",
        "\n",
        "        train_accuracy = check_accuracy(train_loader, model)\n",
        "\n",
        "        loop.set_description(f\"Epoch [{epoch}/{num_epochs}]\")\n",
        "        loop.set_postfix(f\"\")\n",
        "\n",
        "    train_loss = train_loss / len(train_loader)\n",
        "\n",
        "    # storing the train losses over an epoch in a list\n",
        "    train_losses.append(train_loss)\n",
        "\n",
        "    train_accuracies.append(train_accuracy)\n",
        "\n",
        "    print(f\"Epoch [{epoch}/{num_epochs}]\")\n",
        "    print(f\"Train_Accuracy={train_accuracy:.2f}, Train_Loss={train_loss:.4f}\")\n"
      ]
    },
    {
      "attachments": {},
      "cell_type": "markdown",
      "metadata": {
        "id": "XNkQ33PjHHtT"
      },
      "source": [
        "# Validation Loss\n"
      ]
    },
    {
      "cell_type": "code",
      "execution_count": 319,
      "metadata": {
        "id": "369qWEwUHHhy"
      },
      "outputs": [],
      "source": [
        "# calculating the loss for val_set\n",
        "\n",
        "val_losses = []\n",
        "val_accuracies = []\n",
        "\n",
        "def val(epoch):\n",
        "\n",
        "   val_loss=0\n",
        "\n",
        "   with torch.no_grad():\n",
        "     for batch_idx, (data, targets) in enumerate(val_loader): # dividing into batches is possibly unecessary (will check later)\n",
        "\n",
        "        #get data to cuda if possible\n",
        "        data = data.to(device=device)\n",
        "        targets = targets.to(device=device)\n",
        "        \n",
        "        #calling the model with the val data and calculating the loss\n",
        "        scores = model(data)\n",
        "        \n",
        "        val_accuracy = check_accuracy(val_loader, model)\n",
        "        \n",
        "        loss = criterion(scores, targets)\n",
        "        val_loss += loss.item()              #accumulating val loss over an epoch\n",
        "\n",
        "   val_accuracies.append(val_accuracy)\n",
        "   \n",
        "   val_loss = val_loss/len(val_loader)\n",
        "   val_losses.append(val_loss)  # storing the validation losses over epochs in a list\n",
        "   \n",
        "   return val_loss, val_accuracy\n"
      ]
    },
    {
      "attachments": {},
      "cell_type": "markdown",
      "metadata": {
        "id": "UubDhoE1HSxV"
      },
      "source": [
        "# Training the model over epochs\n"
      ]
    },
    {
      "cell_type": "code",
      "execution_count": 320,
      "metadata": {
        "id": "_NYPGP0_HSRS"
      },
      "outputs": [
        {
          "name": "stderr",
          "output_type": "stream",
          "text": [
            "  0%|          | 0/3750 [00:00<?, ?it/s]"
          ]
        },
        {
          "name": "stderr",
          "output_type": "stream",
          "text": [
            "Epoch [0/15]:   1%|          | 33/3750 [07:26<13:57:34, 13.52s/it]\n"
          ]
        },
        {
          "ename": "KeyboardInterrupt",
          "evalue": "",
          "output_type": "error",
          "traceback": [
            "\u001b[1;31m---------------------------------------------------------------------------\u001b[0m",
            "\u001b[1;31mKeyboardInterrupt\u001b[0m                         Traceback (most recent call last)",
            "Cell \u001b[1;32mIn[320], line 5\u001b[0m\n\u001b[0;32m      3\u001b[0m \u001b[39mfor\u001b[39;00m epoch \u001b[39min\u001b[39;00m \u001b[39mrange\u001b[39m(num_epochs):\n\u001b[0;32m      4\u001b[0m     model\u001b[39m.\u001b[39mtrain()\n\u001b[1;32m----> 5\u001b[0m     train(epoch)\n\u001b[0;32m      6\u001b[0m     model\u001b[39m.\u001b[39meval()\n\u001b[0;32m      7\u001b[0m     val(epoch)\n",
            "Cell \u001b[1;32mIn[318], line 26\u001b[0m, in \u001b[0;36mtrain\u001b[1;34m(epoch)\u001b[0m\n\u001b[0;32m     23\u001b[0m     \u001b[39m# accumulating loss over an epoch\u001b[39;00m\n\u001b[0;32m     24\u001b[0m     train_loss \u001b[39m+\u001b[39m\u001b[39m=\u001b[39m loss\u001b[39m.\u001b[39mitem()\n\u001b[1;32m---> 26\u001b[0m     train_accuracy \u001b[39m=\u001b[39m check_accuracy(train_loader, model)\n\u001b[0;32m     28\u001b[0m     loop\u001b[39m.\u001b[39mset_description(\u001b[39mf\u001b[39m\u001b[39m\"\u001b[39m\u001b[39mEpoch [\u001b[39m\u001b[39m{\u001b[39;00mepoch\u001b[39m}\u001b[39;00m\u001b[39m/\u001b[39m\u001b[39m{\u001b[39;00mnum_epochs\u001b[39m}\u001b[39;00m\u001b[39m]\u001b[39m\u001b[39m\"\u001b[39m)\n\u001b[0;32m     30\u001b[0m train_loss \u001b[39m=\u001b[39m train_loss \u001b[39m/\u001b[39m \u001b[39mlen\u001b[39m(train_loader)\n",
            "Cell \u001b[1;32mIn[306], line 7\u001b[0m, in \u001b[0;36mcheck_accuracy\u001b[1;34m(loader, model)\u001b[0m\n\u001b[0;32m      4\u001b[0m model\u001b[39m.\u001b[39meval()\n\u001b[0;32m      6\u001b[0m \u001b[39mwith\u001b[39;00m torch\u001b[39m.\u001b[39mno_grad():\n\u001b[1;32m----> 7\u001b[0m     \u001b[39mfor\u001b[39;00m x, y \u001b[39min\u001b[39;00m loader:\n\u001b[0;32m      8\u001b[0m         x \u001b[39m=\u001b[39m x\u001b[39m.\u001b[39mto(device\u001b[39m=\u001b[39mdevice)\n\u001b[0;32m      9\u001b[0m         y \u001b[39m=\u001b[39m y\u001b[39m.\u001b[39mto(device\u001b[39m=\u001b[39mdevice)\n",
            "File \u001b[1;32mc:\\Users\\SQREAM\\miniconda3\\envs\\deeplearning\\Lib\\site-packages\\torch\\utils\\data\\dataloader.py:633\u001b[0m, in \u001b[0;36m_BaseDataLoaderIter.__next__\u001b[1;34m(self)\u001b[0m\n\u001b[0;32m    630\u001b[0m \u001b[39mif\u001b[39;00m \u001b[39mself\u001b[39m\u001b[39m.\u001b[39m_sampler_iter \u001b[39mis\u001b[39;00m \u001b[39mNone\u001b[39;00m:\n\u001b[0;32m    631\u001b[0m     \u001b[39m# TODO(https://github.com/pytorch/pytorch/issues/76750)\u001b[39;00m\n\u001b[0;32m    632\u001b[0m     \u001b[39mself\u001b[39m\u001b[39m.\u001b[39m_reset()  \u001b[39m# type: ignore[call-arg]\u001b[39;00m\n\u001b[1;32m--> 633\u001b[0m data \u001b[39m=\u001b[39m \u001b[39mself\u001b[39;49m\u001b[39m.\u001b[39;49m_next_data()\n\u001b[0;32m    634\u001b[0m \u001b[39mself\u001b[39m\u001b[39m.\u001b[39m_num_yielded \u001b[39m+\u001b[39m\u001b[39m=\u001b[39m \u001b[39m1\u001b[39m\n\u001b[0;32m    635\u001b[0m \u001b[39mif\u001b[39;00m \u001b[39mself\u001b[39m\u001b[39m.\u001b[39m_dataset_kind \u001b[39m==\u001b[39m _DatasetKind\u001b[39m.\u001b[39mIterable \u001b[39mand\u001b[39;00m \\\n\u001b[0;32m    636\u001b[0m         \u001b[39mself\u001b[39m\u001b[39m.\u001b[39m_IterableDataset_len_called \u001b[39mis\u001b[39;00m \u001b[39mnot\u001b[39;00m \u001b[39mNone\u001b[39;00m \u001b[39mand\u001b[39;00m \\\n\u001b[0;32m    637\u001b[0m         \u001b[39mself\u001b[39m\u001b[39m.\u001b[39m_num_yielded \u001b[39m>\u001b[39m \u001b[39mself\u001b[39m\u001b[39m.\u001b[39m_IterableDataset_len_called:\n",
            "File \u001b[1;32mc:\\Users\\SQREAM\\miniconda3\\envs\\deeplearning\\Lib\\site-packages\\torch\\utils\\data\\dataloader.py:677\u001b[0m, in \u001b[0;36m_SingleProcessDataLoaderIter._next_data\u001b[1;34m(self)\u001b[0m\n\u001b[0;32m    675\u001b[0m \u001b[39mdef\u001b[39;00m \u001b[39m_next_data\u001b[39m(\u001b[39mself\u001b[39m):\n\u001b[0;32m    676\u001b[0m     index \u001b[39m=\u001b[39m \u001b[39mself\u001b[39m\u001b[39m.\u001b[39m_next_index()  \u001b[39m# may raise StopIteration\u001b[39;00m\n\u001b[1;32m--> 677\u001b[0m     data \u001b[39m=\u001b[39m \u001b[39mself\u001b[39;49m\u001b[39m.\u001b[39;49m_dataset_fetcher\u001b[39m.\u001b[39;49mfetch(index)  \u001b[39m# may raise StopIteration\u001b[39;00m\n\u001b[0;32m    678\u001b[0m     \u001b[39mif\u001b[39;00m \u001b[39mself\u001b[39m\u001b[39m.\u001b[39m_pin_memory:\n\u001b[0;32m    679\u001b[0m         data \u001b[39m=\u001b[39m _utils\u001b[39m.\u001b[39mpin_memory\u001b[39m.\u001b[39mpin_memory(data, \u001b[39mself\u001b[39m\u001b[39m.\u001b[39m_pin_memory_device)\n",
            "File \u001b[1;32mc:\\Users\\SQREAM\\miniconda3\\envs\\deeplearning\\Lib\\site-packages\\torch\\utils\\data\\_utils\\fetch.py:51\u001b[0m, in \u001b[0;36m_MapDatasetFetcher.fetch\u001b[1;34m(self, possibly_batched_index)\u001b[0m\n\u001b[0;32m     49\u001b[0m         data \u001b[39m=\u001b[39m \u001b[39mself\u001b[39m\u001b[39m.\u001b[39mdataset\u001b[39m.\u001b[39m__getitems__(possibly_batched_index)\n\u001b[0;32m     50\u001b[0m     \u001b[39melse\u001b[39;00m:\n\u001b[1;32m---> 51\u001b[0m         data \u001b[39m=\u001b[39m [\u001b[39mself\u001b[39;49m\u001b[39m.\u001b[39;49mdataset[idx] \u001b[39mfor\u001b[39;49;00m idx \u001b[39min\u001b[39;49;00m possibly_batched_index]\n\u001b[0;32m     52\u001b[0m \u001b[39melse\u001b[39;00m:\n\u001b[0;32m     53\u001b[0m     data \u001b[39m=\u001b[39m \u001b[39mself\u001b[39m\u001b[39m.\u001b[39mdataset[possibly_batched_index]\n",
            "File \u001b[1;32mc:\\Users\\SQREAM\\miniconda3\\envs\\deeplearning\\Lib\\site-packages\\torch\\utils\\data\\_utils\\fetch.py:51\u001b[0m, in \u001b[0;36m<listcomp>\u001b[1;34m(.0)\u001b[0m\n\u001b[0;32m     49\u001b[0m         data \u001b[39m=\u001b[39m \u001b[39mself\u001b[39m\u001b[39m.\u001b[39mdataset\u001b[39m.\u001b[39m__getitems__(possibly_batched_index)\n\u001b[0;32m     50\u001b[0m     \u001b[39melse\u001b[39;00m:\n\u001b[1;32m---> 51\u001b[0m         data \u001b[39m=\u001b[39m [\u001b[39mself\u001b[39;49m\u001b[39m.\u001b[39;49mdataset[idx] \u001b[39mfor\u001b[39;00m idx \u001b[39min\u001b[39;00m possibly_batched_index]\n\u001b[0;32m     52\u001b[0m \u001b[39melse\u001b[39;00m:\n\u001b[0;32m     53\u001b[0m     data \u001b[39m=\u001b[39m \u001b[39mself\u001b[39m\u001b[39m.\u001b[39mdataset[possibly_batched_index]\n",
            "File \u001b[1;32mc:\\Users\\SQREAM\\miniconda3\\envs\\deeplearning\\Lib\\site-packages\\torchvision\\datasets\\mnist.py:145\u001b[0m, in \u001b[0;36mMNIST.__getitem__\u001b[1;34m(self, index)\u001b[0m\n\u001b[0;32m    142\u001b[0m img \u001b[39m=\u001b[39m Image\u001b[39m.\u001b[39mfromarray(img\u001b[39m.\u001b[39mnumpy(), mode\u001b[39m=\u001b[39m\u001b[39m\"\u001b[39m\u001b[39mL\u001b[39m\u001b[39m\"\u001b[39m)\n\u001b[0;32m    144\u001b[0m \u001b[39mif\u001b[39;00m \u001b[39mself\u001b[39m\u001b[39m.\u001b[39mtransform \u001b[39mis\u001b[39;00m \u001b[39mnot\u001b[39;00m \u001b[39mNone\u001b[39;00m:\n\u001b[1;32m--> 145\u001b[0m     img \u001b[39m=\u001b[39m \u001b[39mself\u001b[39;49m\u001b[39m.\u001b[39;49mtransform(img)\n\u001b[0;32m    147\u001b[0m \u001b[39mif\u001b[39;00m \u001b[39mself\u001b[39m\u001b[39m.\u001b[39mtarget_transform \u001b[39mis\u001b[39;00m \u001b[39mnot\u001b[39;00m \u001b[39mNone\u001b[39;00m:\n\u001b[0;32m    148\u001b[0m     target \u001b[39m=\u001b[39m \u001b[39mself\u001b[39m\u001b[39m.\u001b[39mtarget_transform(target)\n",
            "File \u001b[1;32mc:\\Users\\SQREAM\\miniconda3\\envs\\deeplearning\\Lib\\site-packages\\torchvision\\transforms\\transforms.py:95\u001b[0m, in \u001b[0;36mCompose.__call__\u001b[1;34m(self, img)\u001b[0m\n\u001b[0;32m     93\u001b[0m \u001b[39mdef\u001b[39;00m \u001b[39m__call__\u001b[39m(\u001b[39mself\u001b[39m, img):\n\u001b[0;32m     94\u001b[0m     \u001b[39mfor\u001b[39;00m t \u001b[39min\u001b[39;00m \u001b[39mself\u001b[39m\u001b[39m.\u001b[39mtransforms:\n\u001b[1;32m---> 95\u001b[0m         img \u001b[39m=\u001b[39m t(img)\n\u001b[0;32m     96\u001b[0m     \u001b[39mreturn\u001b[39;00m img\n",
            "File \u001b[1;32mc:\\Users\\SQREAM\\miniconda3\\envs\\deeplearning\\Lib\\site-packages\\torchvision\\transforms\\transforms.py:137\u001b[0m, in \u001b[0;36mToTensor.__call__\u001b[1;34m(self, pic)\u001b[0m\n\u001b[0;32m    129\u001b[0m \u001b[39mdef\u001b[39;00m \u001b[39m__call__\u001b[39m(\u001b[39mself\u001b[39m, pic):\n\u001b[0;32m    130\u001b[0m \u001b[39m    \u001b[39m\u001b[39m\"\"\"\u001b[39;00m\n\u001b[0;32m    131\u001b[0m \u001b[39m    Args:\u001b[39;00m\n\u001b[0;32m    132\u001b[0m \u001b[39m        pic (PIL Image or numpy.ndarray): Image to be converted to tensor.\u001b[39;00m\n\u001b[1;32m   (...)\u001b[0m\n\u001b[0;32m    135\u001b[0m \u001b[39m        Tensor: Converted image.\u001b[39;00m\n\u001b[0;32m    136\u001b[0m \u001b[39m    \"\"\"\u001b[39;00m\n\u001b[1;32m--> 137\u001b[0m     \u001b[39mreturn\u001b[39;00m F\u001b[39m.\u001b[39;49mto_tensor(pic)\n",
            "File \u001b[1;32mc:\\Users\\SQREAM\\miniconda3\\envs\\deeplearning\\Lib\\site-packages\\torchvision\\transforms\\functional.py:174\u001b[0m, in \u001b[0;36mto_tensor\u001b[1;34m(pic)\u001b[0m\n\u001b[0;32m    172\u001b[0m img \u001b[39m=\u001b[39m img\u001b[39m.\u001b[39mpermute((\u001b[39m2\u001b[39m, \u001b[39m0\u001b[39m, \u001b[39m1\u001b[39m))\u001b[39m.\u001b[39mcontiguous()\n\u001b[0;32m    173\u001b[0m \u001b[39mif\u001b[39;00m \u001b[39misinstance\u001b[39m(img, torch\u001b[39m.\u001b[39mByteTensor):\n\u001b[1;32m--> 174\u001b[0m     \u001b[39mreturn\u001b[39;00m img\u001b[39m.\u001b[39;49mto(dtype\u001b[39m=\u001b[39;49mdefault_float_dtype)\u001b[39m.\u001b[39mdiv(\u001b[39m255\u001b[39m)\n\u001b[0;32m    175\u001b[0m \u001b[39melse\u001b[39;00m:\n\u001b[0;32m    176\u001b[0m     \u001b[39mreturn\u001b[39;00m img\n",
            "\u001b[1;31mKeyboardInterrupt\u001b[0m: "
          ]
        }
      ],
      "source": [
        "#loops for 20 epochs (will add print statements)\n",
        "\n",
        "for epoch in range(num_epochs):\n",
        "    model.train()\n",
        "    train(epoch)\n",
        "    model.eval()\n",
        "    val(epoch)\n"
      ]
    },
    {
      "attachments": {},
      "cell_type": "markdown",
      "metadata": {
        "id": "L7MrP-flPy5-"
      },
      "source": [
        "# Checking the accuracy on training, validation and test sets\n"
      ]
    },
    {
      "cell_type": "code",
      "execution_count": null,
      "metadata": {
        "colab": {
          "base_uri": "https://localhost:8080/"
        },
        "id": "fl0zP_SZrnoP",
        "outputId": "b2738d88-4f1c-440e-efb2-2531f972e3ca"
      },
      "outputs": [
        {
          "name": "stdout",
          "output_type": "stream",
          "text": [
            "Accuracy on training set: 99.40\n",
            "Accuracy on validation set: 98.84\n"
          ]
        }
      ],
      "source": [
        "print(f\"Accuracy on training set: {check_accuracy(train_loader, model)*100:.2f}\") #highest was 99.55\n",
        "print(f\"Accuracy on validation set: {check_accuracy(val_loader, model)*100:.2f}\")\n",
        "# print(f\"Accuracy on test set: {check_accuracy(test_loader, model)*100:.2f}\") #highest was 98.69"
      ]
    },
    {
      "attachments": {},
      "cell_type": "markdown",
      "metadata": {
        "id": "Ikmzkm8YMu8y"
      },
      "source": [
        "# Plotting the Train Loss and Validation loss vs number of epochs"
      ]
    },
    {
      "cell_type": "code",
      "execution_count": null,
      "metadata": {
        "colab": {
          "base_uri": "https://localhost:8080/",
          "height": 472
        },
        "id": "Nhm7zNQbCAay",
        "outputId": "52c3c150-b9b7-40b8-b977-90e5115f448e"
      },
      "outputs": [
        {
          "data": {
            "image/png": "[encoded data removed]",
            "text/plain": [
              "<Figure size 640x480 with 1 Axes>"
            ]
          },
          "metadata": {},
          "output_type": "display_data"
        }
      ],
      "source": [
        "from matplotlib import pyplot as plt\n",
        "\n",
        "plt.plot(train_losses,'-o')\n",
        "plt.plot(val_losses,'-o')\n",
        "plt.xlabel('epoch')\n",
        "plt.ylabel('losses')\n",
        "plt.legend(['Train','Validation'])\n",
        "plt.title('Train vs Validation Losses')\n",
        "\n",
        "plt.show()"
      ]
    },
    {
      "cell_type": "code",
      "execution_count": null,
      "metadata": {
        "id": "fQpHcLLZyj0f"
      },
      "outputs": [],
      "source": [
        "def count_parameters(model):\n",
        "    return sum(p.numel() for p in model.parameters() if p.requires_grad)"
      ]
    },
    {
      "cell_type": "code",
      "execution_count": null,
      "metadata": {
        "colab": {
          "base_uri": "https://localhost:8080/"
        },
        "id": "Ku81GfqlhHXG",
        "outputId": "642ae070-8668-48f0-a34f-6429adff6ff9"
      },
      "outputs": [
        {
          "name": "stdout",
          "output_type": "stream",
          "text": [
            "9146\n"
          ]
        }
      ],
      "source": [
        "print(count_parameters(model))"
      ]
    },
    {
      "cell_type": "code",
      "execution_count": null,
      "metadata": {
        "id": "HGg9N2EAhN_L"
      },
      "outputs": [],
      "source": []
    }
  ],
  "metadata": {
    "colab": {
      "provenance": []
    },
    "kernelspec": {
      "display_name": "Python 3",
      "name": "python3"
    },
    "language_info": {
      "codemirror_mode": {
        "name": "ipython",
        "version": 3
      },
      "file_extension": ".py",
      "mimetype": "text/x-python",
      "name": "python",
      "nbconvert_exporter": "python",
      "pygments_lexer": "ipython3",
      "version": "3.11.4"
    }
  },
  "nbformat": 4,
  "nbformat_minor": 0
}
