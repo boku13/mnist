{
  "cells": [
    {
      "attachments": {},
      "cell_type": "markdown",
      "metadata": {
        "id": "91C3qtyG4PDy"
      },
      "source": [
        "# Handling Imports"
      ]
    },
    {
      "cell_type": "code",
      "execution_count": 117,
      "metadata": {
        "id": "JAPwoULh0WhV"
      },
      "outputs": [],
      "source": [
        "import torch\n",
        "import torch.nn as nn                           #imports the neural network module which contains the nn superclass\n",
        "import torch.optim as optim                     #imports the optimization algorithms such as gradient descent, adam etc\n",
        "import torch.nn.functional as F                 #has all the parameter-less functions, imports the activation functions(relu etc), but those can also be found in the nn package\n",
        "from torch.utils.data import DataLoader         #this provides a dataset class for data representation and a dataloader for iterating over the data among other things.\n",
        "import torchvision.datasets as datasets         #pytorch comes with datasets which can be imported through this\n",
        "import torchvision.transforms as transforms     #has methods to perform data augmentation operations such as cropping, resizing, normalization etc.\n",
        "import wandb\n",
        "from tqdm import tqdm\n",
        "import pandas as pd"
      ]
    },
    {
      "attachments": {},
      "cell_type": "markdown",
      "metadata": {
        "id": "n0ucrvnWPfwQ"
      },
      "source": []
    },
    {
      "attachments": {},
      "cell_type": "markdown",
      "metadata": {
        "id": "-G3qb9fq4VRL"
      },
      "source": [
        "# Creating a CNN"
      ]
    },
    {
      "cell_type": "code",
      "execution_count": 118,
      "metadata": {
        "id": "HJaedbM31LSm"
      },
      "outputs": [],
      "source": [
        "class CNN(nn.Module):\n",
        "  def __init__(self,in_channels=1,num_classes=10):                                                                       #constructor method which creates the object of the written class\n",
        "    super(CNN, self).__init__()                                                                                          #super method which inherits the methods from the parent nn.Module class\n",
        "    self.conv1 = nn.Conv2d(in_channels = in_channels, out_channels = 8, kernel_size=(3,3), stride=(1,1), padding=(1,1))  #same convolution gives the same dimensions of the image as output\n",
        "    self.pool1 = nn.MaxPool2d(kernel_size=(2,2), stride=(2,2))                                                           #decreases the image dimensions by 2 times\n",
        "    self.conv1_bn = nn.BatchNorm2d(8) \n",
        "    self.drop = nn.Dropout(0.25)\n",
        "    self.conv2 = nn.Conv2d(in_channels = 8, out_channels = 16, kernel_size=(3,3), stride=(1,1), padding=(1,1))           #same convolution 2\n",
        "    self.conv2_bn = nn.BatchNorm2d(16)\n",
        "    self.fc1 = nn.Linear(16*7*7, num_classes)                                                                            #fully connectetd layer\n",
        "    # self.fc1_bn = nn.BatchNorm1d(8*7*7)\n",
        "    # self.fc2 = nn.Linear(8*7*7, num_classes)\n",
        "    \n",
        "  def forward(self, x):              #forward-prop method\n",
        "    x = self.conv1(x)        #relu activation unit after convolution\n",
        "    x = self.pool1(x)                #max pool layer\n",
        "    x = F.relu(self.conv1_bn(x))\n",
        "    x = self.drop(x)\n",
        "    x = self.conv2(x)\n",
        "    x = self.pool1(x)                #max pool layer\n",
        "    x = F.relu(self.conv2_bn(x))     #convolutuion + activation unit 2\n",
        "    x = self.drop(x)\n",
        "    x = x.reshape(x.shape[0], -1)    #flatten the output to generate the input for a fully connected layer\n",
        "    x = self.fc1(x)                  #fully connected layer\n",
        "    # x = F.relu(self.fc1_bn(x))\n",
        "    # x = self.fc2(x)\n",
        "    # x = F.softmax(x, dim = 1)\n",
        "    return x"
      ]
    },
    {
      "attachments": {},
      "cell_type": "markdown",
      "metadata": {},
      "source": [
        "# Set Device"
      ]
    },
    {
      "cell_type": "code",
      "execution_count": 119,
      "metadata": {},
      "outputs": [],
      "source": [
        " #sets the device to cuda or cpu depending on the avaialability\n",
        "\n",
        "device = torch.device('cuda' if torch.cuda.is_available() else 'cpu')\n",
        "# device = torch.device('cpu')"
      ]
    },
    {
      "attachments": {},
      "cell_type": "markdown",
      "metadata": {},
      "source": [
        "# computing the mean, std"
      ]
    },
    {
      "cell_type": "code",
      "execution_count": 120,
      "metadata": {},
      "outputs": [],
      "source": [
        "def mean_std(loader):\n",
        "  sum, squared_sum, num_batches = 0,0,0\n",
        "  for data,_ in loader:\n",
        "    sum += torch.mean(data,dim=[0,2,3])\n",
        "    squared_sum += torch.mean(data**2,dim=[0,2,3])\n",
        "    num_batches += 1\n",
        "  mean = sum/num_batches\n",
        "  std = (squared_sum/num_batches - mean**2)**0.5\n",
        "  return mean, std\n"
      ]
    },
    {
      "attachments": {},
      "cell_type": "markdown",
      "metadata": {},
      "source": [
        "# Check Accuracy"
      ]
    },
    {
      "cell_type": "code",
      "execution_count": 121,
      "metadata": {},
      "outputs": [],
      "source": [
        "def check_accuracy(loader, model):\n",
        "    num_correct = 0\n",
        "    num_samples = 0\n",
        "    model.eval()\n",
        "\n",
        "    with torch.no_grad():\n",
        "        for x, y in loader:\n",
        "            x = x.to(device=device)\n",
        "            y = y.to(device=device)\n",
        "\n",
        "            scores = model(x)\n",
        "            _, predictions = scores.max(1)\n",
        "            num_correct += (predictions == y).sum()\n",
        "            num_samples += predictions.size(0)\n",
        "\n",
        "    model.train()\n",
        "    return num_correct / num_samples"
      ]
    },
    {
      "attachments": {},
      "cell_type": "markdown",
      "metadata": {
        "id": "T0U_U3KdBfDE"
      },
      "source": [
        "# Check if the model has any errors in the structure"
      ]
    },
    {
      "cell_type": "code",
      "execution_count": 122,
      "metadata": {
        "colab": {
          "base_uri": "https://localhost:8080/"
        },
        "id": "FBE6KYglBefM",
        "outputId": "adaa823c-0d31-484f-f587-ca177be6a217"
      },
      "outputs": [
        {
          "name": "stdout",
          "output_type": "stream",
          "text": [
            "torch.Size([64, 10])\n"
          ]
        }
      ],
      "source": [
        "model = CNN()\n",
        "\n",
        "#generates a dummy tensor to check the model parameters\n",
        "x = torch.randn(64, 1, 28, 28)\n",
        "print(model(x).shape)"
      ]
    },
    {
      "attachments": {},
      "cell_type": "markdown",
      "metadata": {
        "id": "kXJc3zANApOH"
      },
      "source": [
        "# Hyperparameters"
      ]
    },
    {
      "cell_type": "code",
      "execution_count": 123,
      "metadata": {},
      "outputs": [
        {
          "data": {
            "text/plain": [
              "True"
            ]
          },
          "execution_count": 123,
          "metadata": {},
          "output_type": "execute_result"
        }
      ],
      "source": [
        "wandb.login()"
      ]
    },
    {
      "cell_type": "code",
      "execution_count": 124,
      "metadata": {
        "id": "EQTOBH1YAofG"
      },
      "outputs": [],
      "source": [
        "in_channels = 1\n",
        "batch_size = 64\n",
        "learning_rate = 10e-4\n",
        "\n",
        "#output labels\n",
        "num_classes = 10\n",
        "\n",
        "#number of epochs the model is training for\n",
        "num_epochs = 15"
      ]
    },
    {
      "cell_type": "code",
      "execution_count": 125,
      "metadata": {},
      "outputs": [],
      "source": [
        "# run = wandb.init(\n",
        "#     # Set the project where this run will be logged\n",
        "#     project=\"mnist\",\n",
        "#     # Track hyperparameters and run metadata\n",
        "#     config={\n",
        "#         \"learning_rate\": learning_rate,\n",
        "#         \"epochs\": num_epochs;\n",
        "#     })\n"
      ]
    },
    {
      "attachments": {},
      "cell_type": "markdown",
      "metadata": {},
      "source": [
        "# Transformations"
      ]
    },
    {
      "cell_type": "code",
      "execution_count": 126,
      "metadata": {},
      "outputs": [],
      "source": [
        "train_transforms = transforms.Compose([ transforms.ToTensor() , transforms.Normalize((0.1307), (0.3081))])"
      ]
    },
    {
      "attachments": {},
      "cell_type": "markdown",
      "metadata": {
        "id": "zS2zlCGsqA7t"
      },
      "source": [
        "# Load Data"
      ]
    },
    {
      "cell_type": "code",
      "execution_count": 127,
      "metadata": {
        "colab": {
          "base_uri": "https://localhost:8080/"
        },
        "id": "UGQsf0K0qEsf",
        "outputId": "97cca0e1-3683-4abb-a2e6-3a5a4a4eb0a7"
      },
      "outputs": [],
      "source": [
        "#loading the dataset from pytorch\n",
        "\n",
        "train_dataset = datasets.MNIST(root='dataset/', train=True, transform=train_transforms, download=True) #downloads the MNIST dataset if it isn't already installed\n",
        "val_dataset = datasets.MNIST(root='dataset/', train=False, transform=train_transforms, download=True)\n"
      ]
    },
    {
      "attachments": {},
      "cell_type": "markdown",
      "metadata": {
        "id": "e7GElmXBsYhs"
      },
      "source": [
        "# Splitting the dataset into train and val set"
      ]
    },
    {
      "cell_type": "code",
      "execution_count": 128,
      "metadata": {
        "colab": {
          "base_uri": "https://localhost:8080/"
        },
        "id": "qtQZQYTgsYRW",
        "outputId": "cbf3e5d1-9f88-45a1-b5aa-8049ea7a4123"
      },
      "outputs": [
        {
          "name": "stdout",
          "output_type": "stream",
          "text": [
            "60000\n",
            "10000\n"
          ]
        }
      ],
      "source": [
        "#splits the dataset of size 60000 into 50k and 10k respectively for the train and val set\n",
        "\n",
        "# train_set, val_set = torch.utils.data.random_split(train_dataset, [50000, 10000])\n",
        "# print(len(train_set))\n",
        "# print(len(val_set))\n",
        "print(len(train_dataset))\n",
        "print(len(val_dataset))"
      ]
    },
    {
      "attachments": {},
      "cell_type": "markdown",
      "metadata": {
        "id": "J3JpM3FCxigv"
      },
      "source": [
        "# Initialzing Data Loaders"
      ]
    },
    {
      "cell_type": "code",
      "execution_count": 129,
      "metadata": {
        "id": "xYBHYGRmvCxz"
      },
      "outputs": [],
      "source": [
        "#initialzing the data loaders for train,val and test sets respectively\n",
        "\n",
        "train_loader = DataLoader(dataset=train_dataset, batch_size=batch_size, shuffle=True)\n",
        "# val_loader = DataLoader(dataset=val_set, batch_size=batch_size, shuffle=True)\n",
        "val_loader = DataLoader(dataset=val_dataset, batch_size=batch_size, shuffle=True)\n",
        "\n",
        "# mean,std = mean_std(train_loader)\n",
        "# print(mean)\n",
        "# print(std)"
      ]
    },
    {
      "attachments": {},
      "cell_type": "markdown",
      "metadata": {
        "id": "qRs4eW0pYQLS"
      },
      "source": [
        "# Initialize Network"
      ]
    },
    {
      "cell_type": "code",
      "execution_count": 130,
      "metadata": {
        "id": "e-dQSGeHYPU-"
      },
      "outputs": [],
      "source": [
        "#initializing the model\n",
        "\n",
        "model = CNN().to(device)"
      ]
    },
    {
      "attachments": {},
      "cell_type": "markdown",
      "metadata": {
        "id": "5KzbwI9Trikq"
      },
      "source": [
        "# Loss and Optimizer"
      ]
    },
    {
      "cell_type": "code",
      "execution_count": 131,
      "metadata": {
        "id": "a3kaEMIDpPcv"
      },
      "outputs": [],
      "source": [
        "#choosing the loss function and optimizing algorithm\n",
        "\n",
        "criterion = nn.CrossEntropyLoss()\n",
        "optimizer = optim.Adam(model.parameters(), lr=learning_rate)"
      ]
    },
    {
      "attachments": {},
      "cell_type": "markdown",
      "metadata": {
        "id": "K2HDpbc-r_Ca"
      },
      "source": [
        "# Train Network"
      ]
    },
    {
      "cell_type": "code",
      "execution_count": 132,
      "metadata": {
        "id": "YDuWUk2wr-sM"
      },
      "outputs": [],
      "source": [
        "train_losses = []\n",
        "train_accuracies = []\n",
        "\n",
        "def train(epoch):\n",
        "    train_loss = 0\n",
        "    loop = tqdm(enumerate(train_loader), total=len(train_loader))\n",
        "    for batch_idx, (data, targets) in loop:\n",
        "        # get data to cuda if possible\n",
        "        data = data.to(device=device)\n",
        "        targets = targets.to(device=device)\n",
        "\n",
        "        # forward\n",
        "        scores = model(data)\n",
        "        loss = criterion(scores, targets)\n",
        "\n",
        "        # backward\n",
        "        optimizer.zero_grad()  # so it doesn't store gradients from previous backprops\n",
        "        loss.backward()\n",
        "\n",
        "        # gradient descent or adam step\n",
        "        optimizer.step()\n",
        "\n",
        "        # accumulating loss over an epoch\n",
        "        train_loss += loss.item()\n",
        "\n",
        "        loop.set_description(f\"Epoch [{epoch}/{num_epochs}]\")\n",
        "        loop.set_postfix(loss=loss.item(), acc=torch.rand(1).item())\n",
        "\n",
        "    train_loss = train_loss / len(train_loader)\n",
        "\n",
        "    # storing the train losses over an epoch in a list\n",
        "    train_losses.append(train_loss)\n",
        "    \n",
        "    train_accuracy = check_accuracy(train_loader, model)\n",
        "    train_accuracies.append(train_accuracy)\n",
        "\n",
        "    return train_loss, train_accuracy\n"
      ]
    },
    {
      "attachments": {},
      "cell_type": "markdown",
      "metadata": {
        "id": "XNkQ33PjHHtT"
      },
      "source": [
        "# Validation Loss\n"
      ]
    },
    {
      "cell_type": "code",
      "execution_count": 133,
      "metadata": {
        "id": "369qWEwUHHhy"
      },
      "outputs": [],
      "source": [
        "# calculating the loss for val_set\n",
        "\n",
        "val_losses = []\n",
        "val_accuracies = []\n",
        "\n",
        "def val(epoch):\n",
        "\n",
        "   val_loss=0\n",
        "\n",
        "   with torch.no_grad():\n",
        "     for batch_idx, (data, targets) in enumerate(val_loader): # dividing into batches is possibly unecessary (will check later)\n",
        "\n",
        "        #get data to cuda if possible\n",
        "        data = data.to(device=device)\n",
        "        targets = targets.to(device=device)\n",
        "        \n",
        "        #calling the model with the val data and calculating the loss\n",
        "        scores = model(data)\n",
        "        \n",
        "        loss = criterion(scores, targets)\n",
        "        val_loss += loss.item()              #accumulating val loss over an epoch\n",
        "\n",
        "   val_accuracy = check_accuracy(val_loader, model)\n",
        "   val_accuracies.append(val_accuracy)\n",
        "   \n",
        "   val_loss = val_loss/len(val_loader)\n",
        "   val_losses.append(val_loss)  # storing the validation losses over epochs in a list\n",
        "   \n",
        "   return val_loss, val_accuracy\n"
      ]
    },
    {
      "attachments": {},
      "cell_type": "markdown",
      "metadata": {
        "id": "UubDhoE1HSxV"
      },
      "source": [
        "# Training the model over epochs\n"
      ]
    },
    {
      "cell_type": "code",
      "execution_count": 134,
      "metadata": {
        "id": "_NYPGP0_HSRS"
      },
      "outputs": [
        {
          "name": "stderr",
          "output_type": "stream",
          "text": [
            "Epoch [0/15]: 100%|██████████| 938/938 [00:15<00:00, 60.06it/s, acc=0.765, loss=0.0923]  \n"
          ]
        },
        {
          "name": "stdout",
          "output_type": "stream",
          "text": [
            "Epoch: 0  Train Loss: 0.2624  Train Acc: 0.9770  Valid Loss: 0.0793  Valid Acc: 0.9756\n"
          ]
        },
        {
          "name": "stderr",
          "output_type": "stream",
          "text": [
            "Epoch [1/15]: 100%|██████████| 938/938 [00:16<00:00, 58.21it/s, acc=0.879, loss=0.00474] \n"
          ]
        },
        {
          "name": "stdout",
          "output_type": "stream",
          "text": [
            "Epoch: 1  Train Loss: 0.1103  Train Acc: 0.9824  Valid Loss: 0.0569  Valid Acc: 0.9822\n"
          ]
        },
        {
          "name": "stderr",
          "output_type": "stream",
          "text": [
            "Epoch [2/15]: 100%|██████████| 938/938 [00:14<00:00, 62.89it/s, acc=0.961, loss=0.0741]  \n"
          ]
        },
        {
          "name": "stdout",
          "output_type": "stream",
          "text": [
            "Epoch: 2  Train Loss: 0.0942  Train Acc: 0.9856  Valid Loss: 0.0500  Valid Acc: 0.9830\n"
          ]
        },
        {
          "name": "stderr",
          "output_type": "stream",
          "text": [
            "Epoch [3/15]: 100%|██████████| 938/938 [00:14<00:00, 64.44it/s, acc=0.767, loss=0.00815] \n"
          ]
        },
        {
          "name": "stdout",
          "output_type": "stream",
          "text": [
            "Epoch: 3  Train Loss: 0.0844  Train Acc: 0.9869  Valid Loss: 0.0448  Valid Acc: 0.9860\n"
          ]
        },
        {
          "name": "stderr",
          "output_type": "stream",
          "text": [
            "Epoch [4/15]: 100%|██████████| 938/938 [00:15<00:00, 60.37it/s, acc=0.329, loss=0.0138]   \n"
          ]
        },
        {
          "name": "stdout",
          "output_type": "stream",
          "text": [
            "Epoch: 4  Train Loss: 0.0797  Train Acc: 0.9885  Valid Loss: 0.0413  Valid Acc: 0.9861\n"
          ]
        },
        {
          "name": "stderr",
          "output_type": "stream",
          "text": [
            "Epoch [5/15]: 100%|██████████| 938/938 [00:15<00:00, 60.54it/s, acc=0.644, loss=0.00403]  \n"
          ]
        },
        {
          "name": "stdout",
          "output_type": "stream",
          "text": [
            "Epoch: 5  Train Loss: 0.0760  Train Acc: 0.9890  Valid Loss: 0.0376  Valid Acc: 0.9870\n"
          ]
        },
        {
          "name": "stderr",
          "output_type": "stream",
          "text": [
            "Epoch [6/15]: 100%|██████████| 938/938 [00:14<00:00, 64.92it/s, acc=0.763, loss=0.0177]   \n"
          ]
        },
        {
          "name": "stdout",
          "output_type": "stream",
          "text": [
            "Epoch: 6  Train Loss: 0.0722  Train Acc: 0.9898  Valid Loss: 0.0366  Valid Acc: 0.9882\n"
          ]
        },
        {
          "name": "stderr",
          "output_type": "stream",
          "text": [
            "Epoch [7/15]: 100%|██████████| 938/938 [00:14<00:00, 65.80it/s, acc=0.694, loss=0.0446]  \n"
          ]
        },
        {
          "name": "stdout",
          "output_type": "stream",
          "text": [
            "Epoch: 7  Train Loss: 0.0693  Train Acc: 0.9908  Valid Loss: 0.0371  Valid Acc: 0.9882\n"
          ]
        },
        {
          "name": "stderr",
          "output_type": "stream",
          "text": [
            "Epoch [8/15]: 100%|██████████| 938/938 [00:14<00:00, 64.67it/s, acc=0.789, loss=0.283]   \n"
          ]
        },
        {
          "name": "stdout",
          "output_type": "stream",
          "text": [
            "Epoch: 8  Train Loss: 0.0692  Train Acc: 0.9905  Valid Loss: 0.0364  Valid Acc: 0.9875\n"
          ]
        },
        {
          "name": "stderr",
          "output_type": "stream",
          "text": [
            "Epoch [9/15]: 100%|██████████| 938/938 [00:15<00:00, 59.87it/s, acc=0.117, loss=0.0257]  \n"
          ]
        },
        {
          "name": "stdout",
          "output_type": "stream",
          "text": [
            "Epoch: 9  Train Loss: 0.0655  Train Acc: 0.9907  Valid Loss: 0.0349  Valid Acc: 0.9889\n"
          ]
        },
        {
          "name": "stderr",
          "output_type": "stream",
          "text": [
            "Epoch [10/15]: 100%|██████████| 938/938 [00:14<00:00, 64.43it/s, acc=0.725, loss=0.12]     \n"
          ]
        },
        {
          "name": "stdout",
          "output_type": "stream",
          "text": [
            "Epoch: 10  Train Loss: 0.0660  Train Acc: 0.9912  Valid Loss: 0.0329  Valid Acc: 0.9895\n"
          ]
        },
        {
          "name": "stderr",
          "output_type": "stream",
          "text": [
            "Epoch [11/15]: 100%|██████████| 938/938 [00:15<00:00, 62.26it/s, acc=0.675, loss=0.00326] \n"
          ]
        },
        {
          "name": "stdout",
          "output_type": "stream",
          "text": [
            "Epoch: 11  Train Loss: 0.0640  Train Acc: 0.9917  Valid Loss: 0.0330  Valid Acc: 0.9893\n"
          ]
        },
        {
          "name": "stderr",
          "output_type": "stream",
          "text": [
            "Epoch [12/15]: 100%|██████████| 938/938 [00:15<00:00, 61.21it/s, acc=0.168, loss=0.24]     \n"
          ]
        },
        {
          "name": "stdout",
          "output_type": "stream",
          "text": [
            "Epoch: 12  Train Loss: 0.0636  Train Acc: 0.9908  Valid Loss: 0.0334  Valid Acc: 0.9888\n"
          ]
        },
        {
          "name": "stderr",
          "output_type": "stream",
          "text": [
            "Epoch [13/15]: 100%|██████████| 938/938 [00:14<00:00, 64.04it/s, acc=0.861, loss=0.0228]   \n"
          ]
        },
        {
          "name": "stdout",
          "output_type": "stream",
          "text": [
            "Epoch: 13  Train Loss: 0.0612  Train Acc: 0.9916  Valid Loss: 0.0333  Valid Acc: 0.9894\n"
          ]
        },
        {
          "name": "stderr",
          "output_type": "stream",
          "text": [
            "Epoch [14/15]: 100%|██████████| 938/938 [00:15<00:00, 60.24it/s, acc=0.449, loss=0.0235]   \n"
          ]
        },
        {
          "name": "stdout",
          "output_type": "stream",
          "text": [
            "Epoch: 14  Train Loss: 0.0606  Train Acc: 0.9913  Valid Loss: 0.0326  Valid Acc: 0.9895\n"
          ]
        }
      ],
      "source": [
        "#loops for 20 epochs (will add print statements)\n",
        "\n",
        "for epoch in range(num_epochs):\n",
        "    model.train()\n",
        "    loss_train, acc_train = train(epoch)\n",
        "    model.eval()\n",
        "    loss_valid, acc_valid = val(epoch)\n",
        "    \n",
        "    print('Epoch: {}  Train Loss: {:.4f}  Train Acc: {:.4f}  Valid Loss: {:.4f}  Valid Acc: {:.4f}'.format(epoch, loss_train, acc_train, loss_valid, acc_valid))\n"
      ]
    },
    {
      "attachments": {},
      "cell_type": "markdown",
      "metadata": {
        "id": "L7MrP-flPy5-"
      },
      "source": [
        "# Checking the accuracy on training, validation and test sets\n"
      ]
    },
    {
      "cell_type": "code",
      "execution_count": 135,
      "metadata": {
        "colab": {
          "base_uri": "https://localhost:8080/"
        },
        "id": "fl0zP_SZrnoP",
        "outputId": "b2738d88-4f1c-440e-efb2-2531f972e3ca"
      },
      "outputs": [
        {
          "name": "stdout",
          "output_type": "stream",
          "text": [
            "Accuracy on training set: 99.13\n",
            "Accuracy on validation set: 98.95\n"
          ]
        }
      ],
      "source": [
        "print(f\"Accuracy on training set: {check_accuracy(train_loader, model)*100:.2f}\") #highest was 99.55\n",
        "print(f\"Accuracy on validation set: {check_accuracy(val_loader, model)*100:.2f}\")\n",
        "# print(f\"Accuracy on test set: {check_accuracy(test_loader, model)*100:.2f}\") #highest was 98.69"
      ]
    },
    {
      "attachments": {},
      "cell_type": "markdown",
      "metadata": {
        "id": "Ikmzkm8YMu8y"
      },
      "source": [
        "# Plotting the Train Loss and Validation loss vs number of epochs"
      ]
    },
    {
      "cell_type": "code",
      "execution_count": 136,
      "metadata": {
        "colab": {
          "base_uri": "https://localhost:8080/",
          "height": 472
        },
        "id": "Nhm7zNQbCAay",
        "outputId": "52c3c150-b9b7-40b8-b977-90e5115f448e"
      },
      "outputs": [
        {
          "data": {
            "image/png": "[encoded data removed]",
            "text/plain": [
              "<Figure size 640x480 with 1 Axes>"
            ]
          },
          "metadata": {},
          "output_type": "display_data"
        }
      ],
      "source": [
        "from matplotlib import pyplot as plt\n",
        "\n",
        "plt.plot(train_losses,'-o')\n",
        "plt.plot(val_losses,'-o')\n",
        "plt.xlabel('epoch')\n",
        "plt.ylabel('losses')\n",
        "plt.legend(['Train','Validation'])\n",
        "plt.title('Train vs Validation Losses')\n",
        "\n",
        "plt.show()"
      ]
    },
    {
      "cell_type": "code",
      "execution_count": 137,
      "metadata": {
        "id": "fQpHcLLZyj0f"
      },
      "outputs": [],
      "source": [
        "def count_parameters(model):\n",
        "    return sum(p.numel() for p in model.parameters() if p.requires_grad)"
      ]
    },
    {
      "cell_type": "code",
      "execution_count": 138,
      "metadata": {
        "colab": {
          "base_uri": "https://localhost:8080/"
        },
        "id": "Ku81GfqlhHXG",
        "outputId": "642ae070-8668-48f0-a34f-6429adff6ff9"
      },
      "outputs": [
        {
          "name": "stdout",
          "output_type": "stream",
          "text": [
            "9146\n"
          ]
        }
      ],
      "source": [
        "print(count_parameters(model))"
      ]
    },
    {
      "cell_type": "code",
      "execution_count": null,
      "metadata": {
        "id": "HGg9N2EAhN_L"
      },
      "outputs": [],
      "source": []
    }
  ],
  "metadata": {
    "colab": {
      "provenance": []
    },
    "kernelspec": {
      "display_name": "Python 3",
      "name": "python3"
    },
    "language_info": {
      "codemirror_mode": {
        "name": "ipython",
        "version": 3
      },
      "file_extension": ".py",
      "mimetype": "text/x-python",
      "name": "python",
      "nbconvert_exporter": "python",
      "pygments_lexer": "ipython3",
      "version": "3.11.4"
    }
  },
  "nbformat": 4,
  "nbformat_minor": 0
}
