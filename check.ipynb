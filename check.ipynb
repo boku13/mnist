{
  "nbformat": 4,
  "nbformat_minor": 0,
  "metadata": {
    "colab": {
      "provenance": []
    },
    "kernelspec": {
      "name": "python3",
      "display_name": "Python 3"
    },
    "language_info": {
      "name": "python"
    }
  },
  "cells": [
    {
      "cell_type": "code",
      "source": [
        "!pip3 install torch torchvision torchaudio --index-url https://download.pytorch.org/whl/cu118 #version control"
      ],
      "metadata": {
        "colab": {
          "base_uri": "https://localhost:8080/"
        },
        "id": "9hzdKo0uvETS",
        "outputId": "47af6140-e5b9-47e2-adda-77f07c4217d4"
      },
      "execution_count": null,
      "outputs": [
        {
          "output_type": "stream",
          "name": "stdout",
          "text": [
            "Looking in indexes: https://download.pytorch.org/whl/cu118\n",
            "Requirement already satisfied: torch in /usr/local/lib/python3.10/dist-packages (2.0.1+cu118)\n",
            "Requirement already satisfied: torchvision in /usr/local/lib/python3.10/dist-packages (0.15.2+cu118)\n",
            "Requirement already satisfied: torchaudio in /usr/local/lib/python3.10/dist-packages (2.0.2+cu118)\n",
            "Requirement already satisfied: filelock in /usr/local/lib/python3.10/dist-packages (from torch) (3.12.2)\n",
            "Requirement already satisfied: typing-extensions in /usr/local/lib/python3.10/dist-packages (from torch) (4.6.3)\n",
            "Requirement already satisfied: sympy in /usr/local/lib/python3.10/dist-packages (from torch) (1.11.1)\n",
            "Requirement already satisfied: networkx in /usr/local/lib/python3.10/dist-packages (from torch) (3.1)\n",
            "Requirement already satisfied: jinja2 in /usr/local/lib/python3.10/dist-packages (from torch) (3.1.2)\n",
            "Requirement already satisfied: triton==2.0.0 in /usr/local/lib/python3.10/dist-packages (from torch) (2.0.0)\n",
            "Requirement already satisfied: cmake in /usr/local/lib/python3.10/dist-packages (from triton==2.0.0->torch) (3.25.2)\n",
            "Requirement already satisfied: lit in /usr/local/lib/python3.10/dist-packages (from triton==2.0.0->torch) (16.0.6)\n",
            "Requirement already satisfied: numpy in /usr/local/lib/python3.10/dist-packages (from torchvision) (1.22.4)\n",
            "Requirement already satisfied: requests in /usr/local/lib/python3.10/dist-packages (from torchvision) (2.27.1)\n",
            "Requirement already satisfied: pillow!=8.3.*,>=5.3.0 in /usr/local/lib/python3.10/dist-packages (from torchvision) (8.4.0)\n",
            "Requirement already satisfied: MarkupSafe>=2.0 in /usr/local/lib/python3.10/dist-packages (from jinja2->torch) (2.1.3)\n",
            "Requirement already satisfied: urllib3<1.27,>=1.21.1 in /usr/local/lib/python3.10/dist-packages (from requests->torchvision) (1.26.16)\n",
            "Requirement already satisfied: certifi>=2017.4.17 in /usr/local/lib/python3.10/dist-packages (from requests->torchvision) (2023.5.7)\n",
            "Requirement already satisfied: charset-normalizer~=2.0.0 in /usr/local/lib/python3.10/dist-packages (from requests->torchvision) (2.0.12)\n",
            "Requirement already satisfied: idna<4,>=2.5 in /usr/local/lib/python3.10/dist-packages (from requests->torchvision) (3.4)\n",
            "Requirement already satisfied: mpmath>=0.19 in /usr/local/lib/python3.10/dist-packages (from sympy->torch) (1.3.0)\n"
          ]
        }
      ]
    },
    {
      "cell_type": "markdown",
      "source": [
        "# Handling Imports"
      ],
      "metadata": {
        "id": "91C3qtyG4PDy"
      }
    },
    {
      "cell_type": "code",
      "execution_count": null,
      "metadata": {
        "id": "JAPwoULh0WhV"
      },
      "outputs": [],
      "source": [
        "import torch\n",
        "import torch.nn as nn                           #imports the neural network module which contains the nn superclass\n",
        "import torch.optim as optim                     #imports the optimization algorithms such as gradient descent, adam etc\n",
        "import torch.nn.functional as F                 #has all the parameter-less functions, imports the activation functions(relu etc), but those can also be found in the nn package\n",
        "from torch.utils.data import DataLoader         #this provides a dataset class for data representation and a dataloader for iterating over the data among other things.\n",
        "import torchvision.datasets as datasets         #pytorch comes with datasets which can be imported through this\n",
        "import torchvision.transforms as transforms     #has methods to perform data augmentation operations such as cropping, resizing, normalization etc."
      ]
    },
    {
      "cell_type": "markdown",
      "source": [],
      "metadata": {
        "id": "n0ucrvnWPfwQ"
      }
    },
    {
      "cell_type": "markdown",
      "source": [
        "# Creating a CNN"
      ],
      "metadata": {
        "id": "-G3qb9fq4VRL"
      }
    },
    {
      "cell_type": "code",
      "source": [
        "class CNN(nn.Module):\n",
        "  def __init__(self,in_channels=1,num_classes=10):                                                                       #constructor method which creates the object of the written class\n",
        "    super(CNN, self).__init__()                                                                                          #super method which inherits the methods from the parent nn.Module class\n",
        "    self.conv1 = nn.Conv2d(in_channels = in_channels, out_channels = 8, kernel_size=(3,3), stride=(1,1), padding=(1,1))  #same convolution gives the same dimensions of the image as output\n",
        "    self.pool1 = nn.MaxPool2d(kernel_size=(2,2), stride=(2,2))                                                           #decreases the image dimensions by 2 times\n",
        "    self.conv2 = nn.Conv2d(in_channels = 8, out_channels = 16, kernel_size=(3,3), stride=(1,1), padding=(1,1))           #same convolution 2\n",
        "    self.fc1 = nn.Linear(16*7*7, num_classes)                                                                            #fully connectetd layer\n",
        "\n",
        "  def forward(self, x):              #forward-prop method\n",
        "    x = F.relu(self.conv1(x))        #relu activation unit after convolution\n",
        "    x = self.pool1(x)                #max pool layer\n",
        "    x = F.relu(self.conv2(x))        #convolutuion + activation unit 2\n",
        "    x = self.pool1(x)                #max pool layer\n",
        "    x = x.reshape(x.shape[0], -1)    #flatten the output to generate the input for a fully connected layer\n",
        "    x = self.fc1(x)                  #fully connected layer\n",
        "    return x"
      ],
      "metadata": {
        "id": "HJaedbM31LSm"
      },
      "execution_count": null,
      "outputs": []
    },
    {
      "cell_type": "markdown",
      "source": [
        "# Check if the model has any errors in the structure"
      ],
      "metadata": {
        "id": "T0U_U3KdBfDE"
      }
    },
    {
      "cell_type": "code",
      "source": [
        "model = CNN()\n",
        "\n",
        "#generates a dummy tensor to check the model parameters\n",
        "x = torch.randn(64, 1, 28, 28)\n",
        "print(model(x).shape)"
      ],
      "metadata": {
        "colab": {
          "base_uri": "https://localhost:8080/"
        },
        "id": "FBE6KYglBefM",
        "outputId": "adaa823c-0d31-484f-f587-ca177be6a217"
      },
      "execution_count": null,
      "outputs": [
        {
          "output_type": "stream",
          "name": "stdout",
          "text": [
            "torch.Size([64, 10])\n"
          ]
        }
      ]
    },
    {
      "cell_type": "markdown",
      "source": [
        "# Set Device"
      ],
      "metadata": {
        "id": "YckVqVa7AV71"
      }
    },
    {
      "cell_type": "code",
      "source": [
        " #sets the device to cuda or cpu depending on the avaialability\n",
        "\n",
        "device = torch.device('cuda' if torch.cuda.is_available() else 'cpu')"
      ],
      "metadata": {
        "id": "qtrTZrPGAUnP"
      },
      "execution_count": null,
      "outputs": []
    },
    {
      "cell_type": "markdown",
      "source": [
        "# Hyperparameters"
      ],
      "metadata": {
        "id": "kXJc3zANApOH"
      }
    },
    {
      "cell_type": "code",
      "source": [
        "in_channels = 1\n",
        "batch_size = 64\n",
        "learning_rate = 10e-4\n",
        "\n",
        "#output labels\n",
        "num_classes = 10\n",
        "\n",
        "#number of epochs the model is training for\n",
        "num_epochs = 20"
      ],
      "metadata": {
        "id": "EQTOBH1YAofG"
      },
      "execution_count": null,
      "outputs": []
    },
    {
      "cell_type": "markdown",
      "source": [
        "# Load Data"
      ],
      "metadata": {
        "id": "zS2zlCGsqA7t"
      }
    },
    {
      "cell_type": "code",
      "source": [
        "#loading the dataset from pytorch\n",
        "\n",
        "train_dataset = datasets.MNIST(root='dataset/', train=True, transform=transforms.ToTensor(), download=True) #downloads the MNIST dataset if it isn't already installed\n",
        "test_dataset = datasets.MNIST(root='dataset/', train=False, transform=transforms.ToTensor(), download=True)\n"
      ],
      "metadata": {
        "id": "UGQsf0K0qEsf",
        "colab": {
          "base_uri": "https://localhost:8080/"
        },
        "outputId": "97cca0e1-3683-4abb-a2e6-3a5a4a4eb0a7"
      },
      "execution_count": null,
      "outputs": [
        {
          "output_type": "stream",
          "name": "stdout",
          "text": [
            "Downloading http://yann.lecun.com/exdb/mnist/train-images-idx3-ubyte.gz\n",
            "Downloading http://yann.lecun.com/exdb/mnist/train-images-idx3-ubyte.gz to dataset/MNIST/raw/train-images-idx3-ubyte.gz\n"
          ]
        },
        {
          "output_type": "stream",
          "name": "stderr",
          "text": [
            "100%|██████████| 9912422/9912422 [00:00<00:00, 275777811.09it/s]"
          ]
        },
        {
          "output_type": "stream",
          "name": "stdout",
          "text": [
            "Extracting dataset/MNIST/raw/train-images-idx3-ubyte.gz to dataset/MNIST/raw\n"
          ]
        },
        {
          "output_type": "stream",
          "name": "stderr",
          "text": [
            "\n"
          ]
        },
        {
          "output_type": "stream",
          "name": "stdout",
          "text": [
            "\n",
            "Downloading http://yann.lecun.com/exdb/mnist/train-labels-idx1-ubyte.gz\n",
            "Downloading http://yann.lecun.com/exdb/mnist/train-labels-idx1-ubyte.gz to dataset/MNIST/raw/train-labels-idx1-ubyte.gz\n"
          ]
        },
        {
          "output_type": "stream",
          "name": "stderr",
          "text": [
            "100%|██████████| 28881/28881 [00:00<00:00, 35955979.17it/s]\n"
          ]
        },
        {
          "output_type": "stream",
          "name": "stdout",
          "text": [
            "Extracting dataset/MNIST/raw/train-labels-idx1-ubyte.gz to dataset/MNIST/raw\n",
            "\n",
            "Downloading http://yann.lecun.com/exdb/mnist/t10k-images-idx3-ubyte.gz\n",
            "Downloading http://yann.lecun.com/exdb/mnist/t10k-images-idx3-ubyte.gz to dataset/MNIST/raw/t10k-images-idx3-ubyte.gz\n"
          ]
        },
        {
          "output_type": "stream",
          "name": "stderr",
          "text": [
            "100%|██████████| 1648877/1648877 [00:00<00:00, 118784847.59it/s]"
          ]
        },
        {
          "output_type": "stream",
          "name": "stdout",
          "text": [
            "Extracting dataset/MNIST/raw/t10k-images-idx3-ubyte.gz to dataset/MNIST/raw\n",
            "\n",
            "Downloading http://yann.lecun.com/exdb/mnist/t10k-labels-idx1-ubyte.gz\n"
          ]
        },
        {
          "output_type": "stream",
          "name": "stderr",
          "text": [
            "\n"
          ]
        },
        {
          "output_type": "stream",
          "name": "stdout",
          "text": [
            "Downloading http://yann.lecun.com/exdb/mnist/t10k-labels-idx1-ubyte.gz to dataset/MNIST/raw/t10k-labels-idx1-ubyte.gz\n"
          ]
        },
        {
          "output_type": "stream",
          "name": "stderr",
          "text": [
            "100%|██████████| 4542/4542 [00:00<00:00, 21599238.97it/s]\n"
          ]
        },
        {
          "output_type": "stream",
          "name": "stdout",
          "text": [
            "Extracting dataset/MNIST/raw/t10k-labels-idx1-ubyte.gz to dataset/MNIST/raw\n",
            "\n"
          ]
        }
      ]
    },
    {
      "cell_type": "markdown",
      "source": [
        "# Splitting the dataset into train and val set"
      ],
      "metadata": {
        "id": "e7GElmXBsYhs"
      }
    },
    {
      "cell_type": "code",
      "source": [
        "#splits the dataset of size 60000 into 50k and 10k respectively for the train and val set\n",
        "\n",
        "train_set, val_set = torch.utils.data.random_split(train_dataset, [50000, 10000])\n",
        "print(len(train_set))\n",
        "print(len(val_set))"
      ],
      "metadata": {
        "colab": {
          "base_uri": "https://localhost:8080/"
        },
        "id": "qtQZQYTgsYRW",
        "outputId": "cbf3e5d1-9f88-45a1-b5aa-8049ea7a4123"
      },
      "execution_count": null,
      "outputs": [
        {
          "output_type": "stream",
          "name": "stdout",
          "text": [
            "50000\n",
            "10000\n"
          ]
        }
      ]
    },
    {
      "cell_type": "markdown",
      "source": [
        "# Initialzing Data Loaders"
      ],
      "metadata": {
        "id": "J3JpM3FCxigv"
      }
    },
    {
      "cell_type": "code",
      "source": [
        "#initialzing the data loaders for train,val and test sets respectively\n",
        "\n",
        "train_loader = DataLoader(dataset=train_set, batch_size=batch_size, shuffle=True)\n",
        "val_loader = DataLoader(dataset=val_set, batch_size=batch_size, shuffle=True)\n",
        "test_loader = DataLoader(dataset=test_dataset, batch_size=batch_size, shuffle=True)"
      ],
      "metadata": {
        "id": "xYBHYGRmvCxz"
      },
      "execution_count": null,
      "outputs": []
    },
    {
      "cell_type": "markdown",
      "source": [
        "# Initialize Network"
      ],
      "metadata": {
        "id": "qRs4eW0pYQLS"
      }
    },
    {
      "cell_type": "code",
      "source": [
        "#initializing the model\n",
        "\n",
        "model = CNN().to(device)"
      ],
      "metadata": {
        "id": "e-dQSGeHYPU-"
      },
      "execution_count": null,
      "outputs": []
    },
    {
      "cell_type": "markdown",
      "source": [
        "# Loss and Optimizer"
      ],
      "metadata": {
        "id": "5KzbwI9Trikq"
      }
    },
    {
      "cell_type": "code",
      "source": [
        "#choosing the loss function and optimizing algorithm\n",
        "\n",
        "criterion = nn.CrossEntropyLoss()\n",
        "optimizer = optim.Adam(model.parameters(), lr=learning_rate)"
      ],
      "metadata": {
        "id": "a3kaEMIDpPcv"
      },
      "execution_count": null,
      "outputs": []
    },
    {
      "cell_type": "markdown",
      "source": [
        "# Train Network"
      ],
      "metadata": {
        "id": "K2HDpbc-r_Ca"
      }
    },
    {
      "cell_type": "code",
      "source": [
        "train_losses = []\n",
        "\n",
        "def train(epoch):\n",
        "\n",
        "    train_loss=0\n",
        "\n",
        "    for batch_idx, (data, targets) in enumerate(train_loader):\n",
        "\n",
        "        #get data to cuda if possible\n",
        "        data = data.to(device=device)\n",
        "        targets = targets.to(device=device)\n",
        "\n",
        "        #forward\n",
        "        scores = model(data)\n",
        "        loss = criterion(scores, targets)\n",
        "\n",
        "        #backward\n",
        "        optimizer.zero_grad() #so it doesnt store gradients from prev back props\n",
        "        loss.backward()\n",
        "\n",
        "        #gradient descent or adam step\n",
        "        optimizer.step()\n",
        "\n",
        "        #accumulating loss over an epoch\n",
        "        train_loss += loss.item()\n",
        "\n",
        "    train_loss = train_loss/len(train_loader)\n",
        "\n",
        "    # storing the train losses over an epoch in a list\n",
        "    train_losses.append(train_loss)\n"
      ],
      "metadata": {
        "id": "YDuWUk2wr-sM"
      },
      "execution_count": null,
      "outputs": []
    },
    {
      "cell_type": "markdown",
      "source": [
        "# Validation Loss\n"
      ],
      "metadata": {
        "id": "XNkQ33PjHHtT"
      }
    },
    {
      "cell_type": "code",
      "source": [
        "# calculating the loss for val_set\n",
        "\n",
        "val_losses = []\n",
        "\n",
        "def val(epoch):\n",
        "\n",
        "   val_loss=0\n",
        "\n",
        "   with torch.no_grad():\n",
        "     for batch_idx, (data, targets) in enumerate(val_loader): # dividing into batches is popssibly unecessary (will check later)\n",
        "\n",
        "        #calling the model with the val data and calculating the loss\n",
        "        scores = model(data)\n",
        "        loss = criterion(scores, targets)\n",
        "\n",
        "        #accumulating val loss over an epoch\n",
        "        val_loss += loss.item()\n",
        "\n",
        "   val_loss = val_loss/len(val_loader)\n",
        "\n",
        "   # storing the validation losses over epochs in a list\n",
        "   val_losses.append(val_loss)\n"
      ],
      "metadata": {
        "id": "369qWEwUHHhy"
      },
      "execution_count": null,
      "outputs": []
    },
    {
      "cell_type": "markdown",
      "source": [
        "# Training the model over epochs\n"
      ],
      "metadata": {
        "id": "UubDhoE1HSxV"
      }
    },
    {
      "cell_type": "code",
      "source": [
        "#loops for 20 epochs (will add print statements)\n",
        "\n",
        "for epoch in range(num_epochs):\n",
        "    model.train()\n",
        "    train(epoch)\n",
        "    model.eval()\n",
        "    val(epoch)\n"
      ],
      "metadata": {
        "id": "_NYPGP0_HSRS"
      },
      "execution_count": null,
      "outputs": []
    },
    {
      "cell_type": "markdown",
      "source": [
        "# Accuracy Check"
      ],
      "metadata": {
        "id": "O9ZeafxdwG0p"
      }
    },
    {
      "cell_type": "code",
      "source": [
        "def check_accuracy(loader, model):\n",
        "    num_correct = 0\n",
        "    num_samples = 0\n",
        "    model.eval()\n",
        "\n",
        "    with torch.no_grad():\n",
        "        for x, y in loader:\n",
        "            x = x.to(device=device)\n",
        "            y = y.to(device=device)\n",
        "\n",
        "            scores = model(x)\n",
        "            _, predictions = scores.max(1)\n",
        "            num_correct += (predictions == y).sum()\n",
        "            num_samples += predictions.size(0)\n",
        "\n",
        "    model.train()\n",
        "    return num_correct / num_samples"
      ],
      "metadata": {
        "id": "19agcWqGwGUN"
      },
      "execution_count": null,
      "outputs": []
    },
    {
      "cell_type": "markdown",
      "source": [
        "# Checking the accuracy on training, validation and test sets\n"
      ],
      "metadata": {
        "id": "L7MrP-flPy5-"
      }
    },
    {
      "cell_type": "code",
      "source": [
        "print(f\"Accuracy on training set: {check_accuracy(train_loader, model)*100:.2f}\") #highest was 99.66\n",
        "print(f\"Accuracy on validation set: {check_accuracy(val_loader, model)*100:.2f}\")\n",
        "print(f\"Accuracy on test set: {check_accuracy(test_loader, model)*100:.2f}\") #highest was 98.68"
      ],
      "metadata": {
        "colab": {
          "base_uri": "https://localhost:8080/"
        },
        "id": "fl0zP_SZrnoP",
        "outputId": "b2738d88-4f1c-440e-efb2-2531f972e3ca"
      },
      "execution_count": null,
      "outputs": [
        {
          "output_type": "stream",
          "name": "stdout",
          "text": [
            "Accuracy on training set: 99.66\n",
            "Accuracy on validation set: 98.27\n",
            "Accuracy on test set: 98.68\n"
          ]
        }
      ]
    },
    {
      "cell_type": "markdown",
      "source": [
        "# Plotting the Train Loss and Validation loss vs number of epochs"
      ],
      "metadata": {
        "id": "Ikmzkm8YMu8y"
      }
    },
    {
      "cell_type": "code",
      "source": [
        "from matplotlib import pyplot as plt\n",
        "\n",
        "plt.plot(train_losses,'-o')\n",
        "plt.plot(val_losses,'-o')\n",
        "plt.xlabel('epoch')\n",
        "plt.ylabel('losses')\n",
        "plt.legend(['Train','Validation'])\n",
        "plt.title('Train vs Validation Losses')\n",
        "\n",
        "plt.show()"
      ],
      "metadata": {
        "colab": {
          "base_uri": "https://localhost:8080/",
          "height": 472
        },
        "id": "Nhm7zNQbCAay",
        "outputId": "52c3c150-b9b7-40b8-b977-90e5115f448e"
      },
      "execution_count": null,
      "outputs": [
        {
          "output_type": "display_data",
          "data": {
            "text/plain": [
              "<Figure size 640x480 with 1 Axes>"
            ],
            "image/png": "[encoded data removed]"
          },
          "metadata": {}
        }
      ]
    },
    {
      "cell_type": "code",
      "source": [
        "def count_parameters(model):\n",
        "    return sum(p.numel() for p in model.parameters() if p.requires_grad)"
      ],
      "metadata": {
        "id": "fQpHcLLZyj0f"
      },
      "execution_count": null,
      "outputs": []
    },
    {
      "cell_type": "code",
      "source": [
        "print(count_parameters(model))"
      ],
      "metadata": {
        "colab": {
          "base_uri": "https://localhost:8080/"
        },
        "id": "Ku81GfqlhHXG",
        "outputId": "642ae070-8668-48f0-a34f-6429adff6ff9"
      },
      "execution_count": null,
      "outputs": [
        {
          "output_type": "stream",
          "name": "stdout",
          "text": [
            "9098\n"
          ]
        }
      ]
    },
    {
      "cell_type": "code",
      "source": [],
      "metadata": {
        "id": "HGg9N2EAhN_L"
      },
      "execution_count": null,
      "outputs": []
    }
  ]
}