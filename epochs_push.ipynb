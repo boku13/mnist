{
  "nbformat": 4,
  "nbformat_minor": 0,
  "metadata": {
    "colab": {
      "provenance": []
    },
    "kernelspec": {
      "name": "python3",
      "display_name": "Python 3"
    },
    "language_info": {
      "name": "python"
    }
  },
  "cells": [
    {
      "cell_type": "code",
      "source": [
        "!pip3 install torch torchvision torchaudio --index-url https://download.pytorch.org/whl/cu118 #version control\n",
        "!pip install wandb\n",
        "# !wandb login()"
      ],
      "metadata": {
        "colab": {
          "base_uri": "https://localhost:8080/"
        },
        "id": "9hzdKo0uvETS",
        "outputId": "cef7e4f8-84e9-4621-e6d6-b62a39e1e4a4"
      },
      "execution_count": 45,
      "outputs": [
        {
          "output_type": "stream",
          "name": "stdout",
          "text": [
            "Looking in indexes: https://download.pytorch.org/whl/cu118\n",
            "Requirement already satisfied: torch in /usr/local/lib/python3.10/dist-packages (2.0.1+cu118)\n",
            "Requirement already satisfied: torchvision in /usr/local/lib/python3.10/dist-packages (0.15.2+cu118)\n",
            "Requirement already satisfied: torchaudio in /usr/local/lib/python3.10/dist-packages (2.0.2+cu118)\n",
            "Requirement already satisfied: filelock in /usr/local/lib/python3.10/dist-packages (from torch) (3.12.2)\n",
            "Requirement already satisfied: typing-extensions in /usr/local/lib/python3.10/dist-packages (from torch) (4.6.3)\n",
            "Requirement already satisfied: sympy in /usr/local/lib/python3.10/dist-packages (from torch) (1.11.1)\n",
            "Requirement already satisfied: networkx in /usr/local/lib/python3.10/dist-packages (from torch) (3.1)\n",
            "Requirement already satisfied: jinja2 in /usr/local/lib/python3.10/dist-packages (from torch) (3.1.2)\n",
            "Requirement already satisfied: triton==2.0.0 in /usr/local/lib/python3.10/dist-packages (from torch) (2.0.0)\n",
            "Requirement already satisfied: cmake in /usr/local/lib/python3.10/dist-packages (from triton==2.0.0->torch) (3.25.2)\n",
            "Requirement already satisfied: lit in /usr/local/lib/python3.10/dist-packages (from triton==2.0.0->torch) (16.0.6)\n",
            "Requirement already satisfied: numpy in /usr/local/lib/python3.10/dist-packages (from torchvision) (1.22.4)\n",
            "Requirement already satisfied: requests in /usr/local/lib/python3.10/dist-packages (from torchvision) (2.27.1)\n",
            "Requirement already satisfied: pillow!=8.3.*,>=5.3.0 in /usr/local/lib/python3.10/dist-packages (from torchvision) (8.4.0)\n",
            "Requirement already satisfied: MarkupSafe>=2.0 in /usr/local/lib/python3.10/dist-packages (from jinja2->torch) (2.1.3)\n",
            "Requirement already satisfied: urllib3<1.27,>=1.21.1 in /usr/local/lib/python3.10/dist-packages (from requests->torchvision) (1.26.16)\n",
            "Requirement already satisfied: certifi>=2017.4.17 in /usr/local/lib/python3.10/dist-packages (from requests->torchvision) (2023.5.7)\n",
            "Requirement already satisfied: charset-normalizer~=2.0.0 in /usr/local/lib/python3.10/dist-packages (from requests->torchvision) (2.0.12)\n",
            "Requirement already satisfied: idna<4,>=2.5 in /usr/local/lib/python3.10/dist-packages (from requests->torchvision) (3.4)\n",
            "Requirement already satisfied: mpmath>=0.19 in /usr/local/lib/python3.10/dist-packages (from sympy->torch) (1.3.0)\n",
            "Requirement already satisfied: wandb in /usr/local/lib/python3.10/dist-packages (0.15.5)\n",
            "Requirement already satisfied: Click!=8.0.0,>=7.1 in /usr/local/lib/python3.10/dist-packages (from wandb) (8.1.3)\n",
            "Requirement already satisfied: GitPython!=3.1.29,>=1.0.0 in /usr/local/lib/python3.10/dist-packages (from wandb) (3.1.31)\n",
            "Requirement already satisfied: requests<3,>=2.0.0 in /usr/local/lib/python3.10/dist-packages (from wandb) (2.27.1)\n",
            "Requirement already satisfied: psutil>=5.0.0 in /usr/local/lib/python3.10/dist-packages (from wandb) (5.9.5)\n",
            "Requirement already satisfied: sentry-sdk>=1.0.0 in /usr/local/lib/python3.10/dist-packages (from wandb) (1.27.1)\n",
            "Requirement already satisfied: docker-pycreds>=0.4.0 in /usr/local/lib/python3.10/dist-packages (from wandb) (0.4.0)\n",
            "Requirement already satisfied: PyYAML in /usr/local/lib/python3.10/dist-packages (from wandb) (6.0)\n",
            "Requirement already satisfied: pathtools in /usr/local/lib/python3.10/dist-packages (from wandb) (0.1.2)\n",
            "Requirement already satisfied: setproctitle in /usr/local/lib/python3.10/dist-packages (from wandb) (1.3.2)\n",
            "Requirement already satisfied: setuptools in /usr/local/lib/python3.10/dist-packages (from wandb) (67.7.2)\n",
            "Requirement already satisfied: appdirs>=1.4.3 in /usr/local/lib/python3.10/dist-packages (from wandb) (1.4.4)\n",
            "Requirement already satisfied: protobuf!=4.21.0,<5,>=3.19.0 in /usr/local/lib/python3.10/dist-packages (from wandb) (3.20.3)\n",
            "Requirement already satisfied: six>=1.4.0 in /usr/local/lib/python3.10/dist-packages (from docker-pycreds>=0.4.0->wandb) (1.16.0)\n",
            "Requirement already satisfied: gitdb<5,>=4.0.1 in /usr/local/lib/python3.10/dist-packages (from GitPython!=3.1.29,>=1.0.0->wandb) (4.0.10)\n",
            "Requirement already satisfied: urllib3<1.27,>=1.21.1 in /usr/local/lib/python3.10/dist-packages (from requests<3,>=2.0.0->wandb) (1.26.16)\n",
            "Requirement already satisfied: certifi>=2017.4.17 in /usr/local/lib/python3.10/dist-packages (from requests<3,>=2.0.0->wandb) (2023.5.7)\n",
            "Requirement already satisfied: charset-normalizer~=2.0.0 in /usr/local/lib/python3.10/dist-packages (from requests<3,>=2.0.0->wandb) (2.0.12)\n",
            "Requirement already satisfied: idna<4,>=2.5 in /usr/local/lib/python3.10/dist-packages (from requests<3,>=2.0.0->wandb) (3.4)\n",
            "Requirement already satisfied: smmap<6,>=3.0.1 in /usr/local/lib/python3.10/dist-packages (from gitdb<5,>=4.0.1->GitPython!=3.1.29,>=1.0.0->wandb) (5.0.0)\n"
          ]
        }
      ]
    },
    {
      "cell_type": "markdown",
      "source": [
        "# Handling Imports"
      ],
      "metadata": {
        "id": "91C3qtyG4PDy"
      }
    },
    {
      "cell_type": "code",
      "execution_count": 46,
      "metadata": {
        "id": "JAPwoULh0WhV"
      },
      "outputs": [],
      "source": [
        "import torch\n",
        "import torch.nn as nn                           #imports the neural network module which contains the nn superclass\n",
        "import torch.optim as optim                     #imports the optimization algorithms such as gradient descent, adam etc\n",
        "import torch.nn.functional as F                 #has all the parameter-less functions, imports the activation functions(relu etc), but those can also be found in the nn package\n",
        "from torch.utils.data import DataLoader         #this provides a dataset class for data representation and a dataloader for iterating over the data among other things.\n",
        "import torchvision.datasets as datasets         #pytorch comes with datasets which can be imported through this\n",
        "import torchvision.transforms as transforms     #has methods to perform data augmentation operations such as cropping, resizing, normalization etc."
      ]
    },
    {
      "cell_type": "markdown",
      "source": [],
      "metadata": {
        "id": "n0ucrvnWPfwQ"
      }
    },
    {
      "cell_type": "code",
      "source": [
        "from tqdm import tqdm\n",
        "# import wandb\n",
        "import numpy as np"
      ],
      "metadata": {
        "id": "QBtIRmTA8IEQ"
      },
      "execution_count": 47,
      "outputs": []
    },
    {
      "cell_type": "markdown",
      "source": [
        "# Creating a CNN"
      ],
      "metadata": {
        "id": "-G3qb9fq4VRL"
      }
    },
    {
      "cell_type": "code",
      "source": [
        "class CNN(nn.Module):\n",
        "  def __init__(self,in_channels=1,num_classes=10):                                                                       #constructor method which creates the object of the written class\n",
        "    super(CNN, self).__init__()                                                                                          #super method which inherits the methods from the parent nn.Module class\n",
        "    self.layers = nn.Sequential(\n",
        "      nn.Conv2d(in_channels=in_channels, out_channels=16, kernel_size=5, stride=1, padding=2),\n",
        "      nn.MaxPool2d(kernel_size=2, stride=2),\n",
        "      nn.BatchNorm2d(16),\n",
        "      nn.ReLU(),\n",
        "      nn.Dropout(0.25),\n",
        "      nn.Conv2d(in_channels=16, out_channels=32, kernel_size=3, stride=1, padding=1),\n",
        "      nn.MaxPool2d(kernel_size=2, stride=2),\n",
        "      nn.BatchNorm2d(32),\n",
        "      nn.ReLU(),\n",
        "      nn.Dropout(0.25),\n",
        "      nn.Flatten(),\n",
        "      nn.Linear(32*7*7, num_classes)\n",
        "    )\n",
        "\n",
        "  def forward(self, x):\n",
        "    x = self.layers(x)\n",
        "    return x"
      ],
      "metadata": {
        "id": "HJaedbM31LSm"
      },
      "execution_count": 48,
      "outputs": []
    },
    {
      "cell_type": "markdown",
      "source": [
        "# Set Device"
      ],
      "metadata": {
        "id": "YckVqVa7AV71"
      }
    },
    {
      "cell_type": "code",
      "source": [
        " #sets the device to cuda or cpu depending on the avaialability\n",
        "\n",
        "device = torch.device('cuda' if torch.cuda.is_available() else 'cpu')"
      ],
      "metadata": {
        "id": "qtrTZrPGAUnP"
      },
      "execution_count": 49,
      "outputs": []
    },
    {
      "cell_type": "markdown",
      "source": [
        "# Check if the model has any errors in the structure"
      ],
      "metadata": {
        "id": "T0U_U3KdBfDE"
      }
    },
    {
      "cell_type": "code",
      "source": [
        "model = CNN(1, 10).to(device)\n",
        "# summary(model, (1, 28, 28))\n",
        "\n",
        "#generates a dummy tensor to check the model parameters\n",
        "x = torch.randn(64, 1, 28, 28)\n",
        "# print(model(x).shape)"
      ],
      "metadata": {
        "id": "FBE6KYglBefM"
      },
      "execution_count": 50,
      "outputs": []
    },
    {
      "cell_type": "markdown",
      "source": [
        "# Hyperparameters"
      ],
      "metadata": {
        "id": "kXJc3zANApOH"
      }
    },
    {
      "cell_type": "code",
      "source": [
        "in_channels = 1\n",
        "batch_size = 64\n",
        "learning_rate = 10e-4\n",
        "\n",
        "#output labels\n",
        "num_classes = 10\n",
        "\n",
        "#number of epochs the model is training for\n",
        "num_epochs = 20"
      ],
      "metadata": {
        "id": "EQTOBH1YAofG"
      },
      "execution_count": 51,
      "outputs": []
    },
    {
      "cell_type": "markdown",
      "source": [
        "# Transforms"
      ],
      "metadata": {
        "id": "l22cP0Wc0hMS"
      }
    },
    {
      "cell_type": "code",
      "source": [
        "train_transforms = transforms.Compose([ transforms.ToTensor() , transforms.Normalize((0.1307), (0.3081)), transforms.RandomRotation(5), transforms.Resize((30,30)), transforms.CenterCrop((28,28))])"
      ],
      "metadata": {
        "id": "HtbYLjVz0gyr"
      },
      "execution_count": 52,
      "outputs": []
    },
    {
      "cell_type": "markdown",
      "source": [
        "# Load Data"
      ],
      "metadata": {
        "id": "zS2zlCGsqA7t"
      }
    },
    {
      "cell_type": "code",
      "source": [
        "#loading the dataset from pytorch\n",
        "\n",
        "train_dataset = datasets.MNIST(root='dataset/', train=True, transform=train_transforms, download=True) #downloads the MNIST dataset if it isn't already installed\n",
        "val_dataset = datasets.MNIST(root='dataset/', train=False, transform=train_transforms, download=True)\n"
      ],
      "metadata": {
        "id": "UGQsf0K0qEsf"
      },
      "execution_count": 53,
      "outputs": []
    },
    {
      "cell_type": "markdown",
      "source": [
        "# Initialzing Data Loaders"
      ],
      "metadata": {
        "id": "J3JpM3FCxigv"
      }
    },
    {
      "cell_type": "code",
      "source": [
        "#initialzing the data loaders for train,val and test sets respectively\n",
        "\n",
        "train_loader = DataLoader(dataset=train_dataset, batch_size=batch_size, shuffle=True)\n",
        "val_loader = DataLoader(dataset=val_dataset, batch_size=batch_size, shuffle=True)"
      ],
      "metadata": {
        "id": "xYBHYGRmvCxz"
      },
      "execution_count": 54,
      "outputs": []
    },
    {
      "cell_type": "markdown",
      "source": [
        "# Initialize Network"
      ],
      "metadata": {
        "id": "qRs4eW0pYQLS"
      }
    },
    {
      "cell_type": "code",
      "source": [
        "#initializing the model\n",
        "\n",
        "model = CNN().to(device)"
      ],
      "metadata": {
        "id": "e-dQSGeHYPU-"
      },
      "execution_count": 55,
      "outputs": []
    },
    {
      "cell_type": "markdown",
      "source": [
        "# Loss and Optimizer"
      ],
      "metadata": {
        "id": "5KzbwI9Trikq"
      }
    },
    {
      "cell_type": "code",
      "source": [
        "#choosing the loss function and optimizing algorithm\n",
        "\n",
        "criterion = nn.CrossEntropyLoss()\n",
        "optimizer = optim.Adam(model.parameters(), lr=learning_rate)"
      ],
      "metadata": {
        "id": "a3kaEMIDpPcv"
      },
      "execution_count": 56,
      "outputs": []
    },
    {
      "cell_type": "markdown",
      "source": [
        "# Train Network"
      ],
      "metadata": {
        "id": "K2HDpbc-r_Ca"
      }
    },
    {
      "cell_type": "code",
      "source": [
        "train_losses = []\n",
        "\n",
        "def train(epoch):\n",
        "\n",
        "    train_loss=0\n",
        "    loop = tqdm(train_loader)\n",
        "\n",
        "    for batch_idx, (data, targets) in enumerate(loop):\n",
        "\n",
        "        #get data to cuda if possible\n",
        "        data = data.to(device=device)\n",
        "        targets = targets.to(device=device)\n",
        "\n",
        "        #forward\n",
        "        scores = model(data)\n",
        "        loss = criterion(scores, targets)\n",
        "\n",
        "        #backward\n",
        "        optimizer.zero_grad() #so it doesnt store gradients from prev back props\n",
        "        loss.backward()\n",
        "\n",
        "        #gradient descent or adam step\n",
        "        optimizer.step()\n",
        "\n",
        "        #accumulating loss over an epoch\n",
        "        train_loss += loss.item()\n",
        "\n",
        "        loop.set_description(f\"Epoch [{epoch}/{num_epochs}]\")\n",
        "        loop.set_postfix(loss=loss.item(), acc=torch.rand(1).item())\n",
        "\n",
        "    train_loss = train_loss/len(train_loader)\n",
        "\n",
        "    # storing the train losses over an epoch in a list\n",
        "    train_losses.append(train_loss)\n"
      ],
      "metadata": {
        "id": "YDuWUk2wr-sM"
      },
      "execution_count": 57,
      "outputs": []
    },
    {
      "cell_type": "markdown",
      "source": [
        "# Validation Loss\n"
      ],
      "metadata": {
        "id": "XNkQ33PjHHtT"
      }
    },
    {
      "cell_type": "code",
      "source": [
        "# calculating the loss for val_set\n",
        "\n",
        "val_losses = []\n",
        "\n",
        "def val(epoch):\n",
        "\n",
        "   val_loss=0\n",
        "\n",
        "   with torch.no_grad():\n",
        "     for batch_idx, (data, targets) in enumerate(val_loader): # dividing into batches is popssibly unecessary (will check later)\n",
        "\n",
        "        #calling the model with the val data and calculating the loss\n",
        "        scores = model(data)\n",
        "        loss = criterion(scores, targets)\n",
        "\n",
        "        #accumulating val loss over an epoch\n",
        "        val_loss += loss.item()\n",
        "\n",
        "   val_loss = val_loss/len(val_loader)\n",
        "\n",
        "   # storing the validation losses over epochs in a list\n",
        "   val_losses.append(val_loss)\n"
      ],
      "metadata": {
        "id": "369qWEwUHHhy"
      },
      "execution_count": 58,
      "outputs": []
    },
    {
      "cell_type": "markdown",
      "source": [
        "# Training the model over epochs\n"
      ],
      "metadata": {
        "id": "UubDhoE1HSxV"
      }
    },
    {
      "cell_type": "code",
      "source": [
        "#loops for 20 epochs (will add print statements)\n",
        "\n",
        "for epoch in range(num_epochs):\n",
        "    model.train()\n",
        "    train(epoch)\n",
        "    model.eval()\n",
        "    val(epoch)\n"
      ],
      "metadata": {
        "id": "_NYPGP0_HSRS",
        "colab": {
          "base_uri": "https://localhost:8080/"
        },
        "outputId": "61f94efc-4b15-4fdb-a8b6-a47c4005aefd"
      },
      "execution_count": 59,
      "outputs": [
        {
          "output_type": "stream",
          "name": "stderr",
          "text": [
            "Epoch [0/20]: 100%|██████████| 938/938 [02:05<00:00,  7.45it/s, acc=0.506, loss=0.158]\n",
            "Epoch [1/20]: 100%|██████████| 938/938 [01:50<00:00,  8.47it/s, acc=0.927, loss=0.0713]\n",
            "Epoch [2/20]: 100%|██████████| 938/938 [01:49<00:00,  8.57it/s, acc=0.929, loss=0.00227]\n",
            "Epoch [3/20]: 100%|██████████| 938/938 [01:50<00:00,  8.49it/s, acc=0.777, loss=0.00111]\n",
            "Epoch [4/20]: 100%|██████████| 938/938 [01:49<00:00,  8.56it/s, acc=0.911, loss=0.315]\n",
            "Epoch [5/20]: 100%|██████████| 938/938 [01:50<00:00,  8.51it/s, acc=0.175, loss=0.0369]\n",
            "Epoch [6/20]: 100%|██████████| 938/938 [01:48<00:00,  8.63it/s, acc=0.568, loss=0.0286]\n",
            "Epoch [7/20]: 100%|██████████| 938/938 [01:49<00:00,  8.59it/s, acc=0.826, loss=0.00462]\n",
            "Epoch [8/20]: 100%|██████████| 938/938 [01:49<00:00,  8.57it/s, acc=0.824, loss=0.0536]\n",
            "Epoch [9/20]: 100%|██████████| 938/938 [01:47<00:00,  8.74it/s, acc=0.585, loss=0.000221]\n",
            "Epoch [10/20]: 100%|██████████| 938/938 [01:49<00:00,  8.55it/s, acc=0.309, loss=0.000824]\n",
            "Epoch [11/20]: 100%|██████████| 938/938 [01:48<00:00,  8.63it/s, acc=0.701, loss=0.00627]\n",
            "Epoch [12/20]: 100%|██████████| 938/938 [01:49<00:00,  8.57it/s, acc=0.241, loss=0.0685]\n",
            "Epoch [13/20]: 100%|██████████| 938/938 [01:45<00:00,  8.88it/s, acc=0.0683, loss=0.00162]\n",
            "Epoch [14/20]: 100%|██████████| 938/938 [01:43<00:00,  9.02it/s, acc=0.524, loss=0.0505]\n",
            "Epoch [15/20]: 100%|██████████| 938/938 [01:46<00:00,  8.83it/s, acc=0.0285, loss=0.0283]\n",
            "Epoch [16/20]: 100%|██████████| 938/938 [01:45<00:00,  8.92it/s, acc=0.709, loss=0.00919]\n",
            "Epoch [17/20]: 100%|██████████| 938/938 [01:43<00:00,  9.04it/s, acc=0.424, loss=0.000748]\n",
            "Epoch [18/20]: 100%|██████████| 938/938 [01:45<00:00,  8.87it/s, acc=0.174, loss=0.0331]\n",
            "Epoch [19/20]: 100%|██████████| 938/938 [01:45<00:00,  8.85it/s, acc=0.846, loss=0.0337]\n"
          ]
        }
      ]
    },
    {
      "cell_type": "markdown",
      "source": [
        "# Accuracy Check"
      ],
      "metadata": {
        "id": "O9ZeafxdwG0p"
      }
    },
    {
      "cell_type": "code",
      "source": [
        "def check_accuracy(loader, model):\n",
        "    num_correct = 0\n",
        "    num_samples = 0\n",
        "    model.eval()\n",
        "\n",
        "    with torch.no_grad():\n",
        "        for x, y in loader:\n",
        "            x = x.to(device=device)\n",
        "            y = y.to(device=device)\n",
        "\n",
        "            scores = model(x)\n",
        "            _, predictions = scores.max(1)\n",
        "            num_correct += (predictions == y).sum()\n",
        "            num_samples += predictions.size(0)\n",
        "\n",
        "    model.train()\n",
        "    return num_correct / num_samples"
      ],
      "metadata": {
        "id": "19agcWqGwGUN"
      },
      "execution_count": 60,
      "outputs": []
    },
    {
      "cell_type": "markdown",
      "source": [
        "# Checking the accuracy on training, validation and test sets\n"
      ],
      "metadata": {
        "id": "L7MrP-flPy5-"
      }
    },
    {
      "cell_type": "code",
      "source": [
        "print(f\"Accuracy on training set: {check_accuracy(train_loader, model)*100:.2f}\") #highest was 99.66\n",
        "print(f\"Accuracy on validation set: {check_accuracy(val_loader, model)*100:.2f}\")\n",
        "# print(f\"Accuracy on test set: {check_accuracy(test_loader, model)*100:.2f}\") #highest was 98.68"
      ],
      "metadata": {
        "colab": {
          "base_uri": "https://localhost:8080/"
        },
        "id": "fl0zP_SZrnoP",
        "outputId": "40f03ca3-d17c-4dab-8a0b-7f45f2b91b8f"
      },
      "execution_count": 61,
      "outputs": [
        {
          "output_type": "stream",
          "name": "stdout",
          "text": [
            "Accuracy on training set: 99.56\n",
            "Accuracy on validation set: 99.27\n"
          ]
        }
      ]
    },
    {
      "cell_type": "markdown",
      "source": [
        "# Plotting the Train Loss and Validation loss vs number of epochs"
      ],
      "metadata": {
        "id": "Ikmzkm8YMu8y"
      }
    },
    {
      "cell_type": "code",
      "source": [
        "from matplotlib import pyplot as plt\n",
        "\n",
        "plt.plot(train_losses,'-o')\n",
        "plt.plot(val_losses,'-o')\n",
        "plt.xlabel('epoch')\n",
        "plt.ylabel('losses')\n",
        "plt.legend(['Train','Validation'])\n",
        "plt.title('Train vs Validation Losses')\n",
        "\n",
        "plt.show()"
      ],
      "metadata": {
        "colab": {
          "base_uri": "https://localhost:8080/",
          "height": 472
        },
        "id": "Nhm7zNQbCAay",
        "outputId": "c4156731-9d21-489f-f6a0-535a3b6c49e4"
      },
      "execution_count": 62,
      "outputs": [
        {
          "output_type": "display_data",
          "data": {
            "text/plain": [
              "<Figure size 640x480 with 1 Axes>"
            ],
            "image/png": "[encoded data removed]"
          },
          "metadata": {}
        }
      ]
    },
    {
      "cell_type": "code",
      "source": [
        "def count_parameters(model):\n",
        "    return sum(p.numel() for p in model.parameters() if p.requires_grad)"
      ],
      "metadata": {
        "id": "fQpHcLLZyj0f"
      },
      "execution_count": 63,
      "outputs": []
    },
    {
      "cell_type": "code",
      "source": [
        "print(count_parameters(model))"
      ],
      "metadata": {
        "colab": {
          "base_uri": "https://localhost:8080/"
        },
        "id": "Ku81GfqlhHXG",
        "outputId": "a5627cb2-0150-49a9-f978-7a1da66763d3"
      },
      "execution_count": 64,
      "outputs": [
        {
          "output_type": "stream",
          "name": "stdout",
          "text": [
            "20842\n"
          ]
        }
      ]
    },
    {
      "cell_type": "code",
      "source": [],
      "metadata": {
        "id": "HGg9N2EAhN_L"
      },
      "execution_count": 64,
      "outputs": []
    }
  ]
}